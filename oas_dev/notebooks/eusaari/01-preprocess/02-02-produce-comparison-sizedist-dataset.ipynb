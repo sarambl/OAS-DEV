{
 "cells": [
  {
   "cell_type": "code",
   "execution_count": 1,
   "metadata": {
    "lines_to_next_cell": 0
   },
   "outputs": [],
   "source": [
    "import os\n",
    "import xarray as xr"
   ]
  },
  {
   "cell_type": "markdown",
   "metadata": {},
   "source": [
    "## Imports:"
   ]
  },
  {
   "cell_type": "code",
   "execution_count": 2,
   "metadata": {},
   "outputs": [
    {
     "name": "stdout",
     "output_type": "stream",
     "text": [
      "/home/ubuntu/mnts/nird/projects//Output_data_OAS-DEV/\n",
      "/home/ubuntu/mnts/nird/projects/OAS-DEV/sectional_v2/data_info/area_defs.csv\n",
      "/home/ubuntu/mnts/nird/projects//Output_data_OAS-DEV//eusaar//noresm/\n"
     ]
    }
   ],
   "source": [
    "from sectional_v2.util.Nd.sizedist_class_v2 import SizedistributionStation\n",
    "from sectional_v2.util.eusaar_data.eusaar_noresm import compute_all_subsets_percs_flag, get_all_distc_noresm"
   ]
  },
  {
   "cell_type": "markdown",
   "metadata": {},
   "source": [
    "## Cases:"
   ]
  },
  {
   "cell_type": "code",
   "execution_count": 6,
   "metadata": {},
   "outputs": [],
   "source": [
    "# Case names:\n",
    "cases_sec = ['SECTv21_ctrl_koagD']# 'SECTv21_ctrl']#,'SECTv11_redSOA_LVnuc','SECTv11_incBVOC']#'PD_SECT_CHC7_diur_ricc']#, 'PD_SECT_CHC7_diurnal']# , 'PD_SECT_CHC7_diur_ricc_incC']\n",
    "cases_orig = []#'noSECTv11_ctrl']#'noSECTv11_ctrl']#,'PD_noSECT_nudgeERA_eq20']#'Original eq.20']  # , 'Original eq.18','Original eq.20, 1.5xBVOC','Original eq.20, rednuc']\n",
    "#cases_sec = ['SECTv11_noresm2_ctrl']#'SECTv11_ctrl_fbvoc']#'SECTv11_ctrl']#,'SECTv11_ctrl_fbvoc']#'SECTv11_ctrl']\n",
    "cases_orig =['noSECTv21_default_dd','noSECTv21_ox_ricc_dd']#'noSECTv11_ctrl_fbvoc'] #/no SECTv11_ctrl\n",
    "cases_orig =['noSECTv21_ox_ricc_dd']#'noSECTv11_ctrl_fbvoc'] #/no SECTv11_ctrl\n",
    "cases = cases_sec + cases_orig\n",
    "\n"
   ]
  },
  {
   "cell_type": "markdown",
   "metadata": {},
   "source": [
    "## Settings"
   ]
  },
  {
   "cell_type": "code",
   "execution_count": 7,
   "metadata": {},
   "outputs": [],
   "source": [
    "\n",
    "from_t = '2008-01-01'\n",
    "to_t = '2010-01-01'\n",
    "\n",
    "nr_of_bins = 5\n",
    "maxDiameter = 39.6  # 23.6 #e-9\n",
    "minDiameter = 5.0  # e-9\n",
    "time_resolution = 'hour'\n",
    "history_field='.h1.'"
   ]
  },
  {
   "cell_type": "markdown",
   "metadata": {},
   "source": [
    "## Load datasets:"
   ]
  },
  {
   "cell_type": "code",
   "execution_count": 8,
   "metadata": {
    "lines_to_next_cell": 0
   },
   "outputs": [],
   "source": [
    "path_tmp = '/persistent01/tmp/'\n",
    "def get_fn_tmp(case, from_t, to_t):\n",
    "    return path_tmp + '%s_%s-%s_concat_dNdlogDs.nc'%(case,from_t,to_t)\n",
    "cases_loaded=[]"
   ]
  },
  {
   "cell_type": "code",
   "execution_count": 10,
   "metadata": {},
   "outputs": [
    {
     "name": "stdout",
     "output_type": "stream",
     "text": [
      "['dNdlogD_mod']\n",
      "['dNdlogD_mod']\n"
     ]
    },
    {
     "name": "stderr",
     "output_type": "stream",
     "text": [
      "2020-07-08 13:06:56,025 useful_scit  INFO     Opening: [/home/ubuntu/mnts/nird/projects//Output_data_OAS-DEV//collocated_ds//NorESM/noSECTv21_default_dd/dNdlogD_mod_noSECTv21_default_dd_2008-01-01_2009-01-01_hour_locations.nc]\n"
     ]
    },
    {
     "name": "stdout",
     "output_type": "stream",
     "text": [
      "/home/ubuntu/mnts/nird/projects//Output_data_OAS-DEV//collocated_ds//NorESM/noSECTv21_default_dd/dNdlogD_mod_noSECTv21_default_dd_2008-01-01_2009-01-01_hour_locations.nc\n",
      "2020-07-08 13:06:56,025 useful_scit  INFO     Opening: [/home/ubuntu/mnts/nird/projects//Output_data_OAS-DEV//collocated_ds//NorESM/noSECTv21_default_dd/dNdlogD_mod_noSECTv21_default_dd_2008-01-01_2009-01-01_hour_locations.nc]\n",
      "['/home/ubuntu/mnts/nird/projects//Output_data_OAS-DEV//collocated_ds//NorESM/noSECTv21_default_dd/dNdlogD_mod_noSECTv21_default_dd_2008-01-01_2009-01-01_hour_locations.nc']\n"
     ]
    },
    {
     "name": "stderr",
     "output_type": "stream",
     "text": [
      "2020-07-08 13:06:56,590 useful_scit  INFO     Opening: [/home/ubuntu/mnts/nird/projects//Output_data_OAS-DEV//collocated_ds//NorESM/noSECTv21_default_dd/dNdlogD_mod_noSECTv21_default_dd_2009-01-01_2010-01-01_hour_locations.nc]\n"
     ]
    },
    {
     "name": "stdout",
     "output_type": "stream",
     "text": [
      "['dNdlogD_mod']\n",
      "['dNdlogD_mod']\n",
      "/home/ubuntu/mnts/nird/projects//Output_data_OAS-DEV//collocated_ds//NorESM/noSECTv21_default_dd/dNdlogD_mod_noSECTv21_default_dd_2009-01-01_2010-01-01_hour_locations.nc\n",
      "2020-07-08 13:06:56,590 useful_scit  INFO     Opening: [/home/ubuntu/mnts/nird/projects//Output_data_OAS-DEV//collocated_ds//NorESM/noSECTv21_default_dd/dNdlogD_mod_noSECTv21_default_dd_2009-01-01_2010-01-01_hour_locations.nc]\n",
      "['/home/ubuntu/mnts/nird/projects//Output_data_OAS-DEV//collocated_ds//NorESM/noSECTv21_default_dd/dNdlogD_mod_noSECTv21_default_dd_2009-01-01_2010-01-01_hour_locations.nc']\n"
     ]
    },
    {
     "name": "stderr",
     "output_type": "stream",
     "text": [
      "2020-07-08 13:21:58,116 useful_scit  INFO     Opening: [/home/ubuntu/mnts/nird/projects//Output_data_OAS-DEV//collocated_ds//NorESM/noSECTv21_ox_ricc_dd/dNdlogD_mod_noSECTv21_ox_ricc_dd_2008-01-01_2009-01-01_hour_locations.nc]\n"
     ]
    },
    {
     "name": "stdout",
     "output_type": "stream",
     "text": [
      "['dNdlogD_mod']\n",
      "['dNdlogD_mod']\n",
      "/home/ubuntu/mnts/nird/projects//Output_data_OAS-DEV//collocated_ds//NorESM/noSECTv21_ox_ricc_dd/dNdlogD_mod_noSECTv21_ox_ricc_dd_2008-01-01_2009-01-01_hour_locations.nc\n",
      "2020-07-08 13:21:58,116 useful_scit  INFO     Opening: [/home/ubuntu/mnts/nird/projects//Output_data_OAS-DEV//collocated_ds//NorESM/noSECTv21_ox_ricc_dd/dNdlogD_mod_noSECTv21_ox_ricc_dd_2008-01-01_2009-01-01_hour_locations.nc]\n",
      "['/home/ubuntu/mnts/nird/projects//Output_data_OAS-DEV//collocated_ds//NorESM/noSECTv21_ox_ricc_dd/dNdlogD_mod_noSECTv21_ox_ricc_dd_2008-01-01_2009-01-01_hour_locations.nc']\n"
     ]
    },
    {
     "name": "stderr",
     "output_type": "stream",
     "text": [
      "2020-07-08 13:21:58,542 useful_scit  INFO     Opening: [/home/ubuntu/mnts/nird/projects//Output_data_OAS-DEV//collocated_ds//NorESM/noSECTv21_ox_ricc_dd/dNdlogD_mod_noSECTv21_ox_ricc_dd_2009-01-01_2010-01-01_hour_locations.nc]\n"
     ]
    },
    {
     "name": "stdout",
     "output_type": "stream",
     "text": [
      "['dNdlogD_mod']\n",
      "['dNdlogD_mod']\n",
      "/home/ubuntu/mnts/nird/projects//Output_data_OAS-DEV//collocated_ds//NorESM/noSECTv21_ox_ricc_dd/dNdlogD_mod_noSECTv21_ox_ricc_dd_2009-01-01_2010-01-01_hour_locations.nc\n",
      "2020-07-08 13:21:58,542 useful_scit  INFO     Opening: [/home/ubuntu/mnts/nird/projects//Output_data_OAS-DEV//collocated_ds//NorESM/noSECTv21_ox_ricc_dd/dNdlogD_mod_noSECTv21_ox_ricc_dd_2009-01-01_2010-01-01_hour_locations.nc]\n",
      "['/home/ubuntu/mnts/nird/projects//Output_data_OAS-DEV//collocated_ds//NorESM/noSECTv21_ox_ricc_dd/dNdlogD_mod_noSECTv21_ox_ricc_dd_2009-01-01_2010-01-01_hour_locations.nc']\n"
     ]
    }
   ],
   "source": [
    "\n",
    "if from_t=='2008-01-01' and to_t=='2010-01-01':\n",
    "    ds_sec={}\n",
    "    dic_mod_all = {}\n",
    "    for case_name in cases_sec:\n",
    "        fn = get_fn_tmp(case_name, from_t, to_t)\n",
    "        if os.path.isfile(fn):\n",
    "            continue\n",
    "        else:\n",
    "            cases_loaded.append(case_name)\n",
    "        ls_ds = []\n",
    "        for f_t, t_t in zip(['2008-01-01','2009-01-01'], ['2009-01-01','2010-01-01']):\n",
    "            s = SizedistributionStation.SizedistributionStation(case_name, f_t, t_t,\n",
    "                                                                [minDiameter, maxDiameter], True, time_resolution,\n",
    "                                                                history_field=history_field)\n",
    "            ls_ds.append(s.get_collocated_dataset(parallel=True))\n",
    "        ds_conc = xr.concat(ls_ds, 'time')\n",
    "        ds_conc:xr.Dataset\n",
    "        # remove duplicates in time:\n",
    "        ds_conc = ds_conc.sel(time=~ds_conc.indexes['time'].duplicated())\n",
    "        ds_sec[case_name] = ds_conc #xr.concat(ls,'time')\n",
    "        dic_mod_all[case_name] = ds_sec[case_name]# = s.return_Nd_ds()\n",
    "\n",
    "    ds_orig={}\n",
    "    for case_name in cases_orig:\n",
    "        fn = get_fn_tmp(case_name, from_t, to_t)\n",
    "        if os.path.isfile(fn):\n",
    "            continue\n",
    "        else:\n",
    "            cases_loaded.append(case_name)\n",
    "        ls_ds = []\n",
    "        for f_t, t_t in zip(['2008-01-01','2009-01-01'], ['2009-01-01','2010-01-01']):\n",
    "            s = SizedistributionStation.SizedistributionStation(case_name, f_t, t_t,\n",
    "                                                                [minDiameter, maxDiameter], False, time_resolution,\n",
    "                                                                history_field=history_field)\n",
    "            ls_ds.append(s.get_collocated_dataset(parallel=True))\n",
    "        ds_conc = xr.concat(ls_ds, 'time')\n",
    "        # remove duplicates in time:\n",
    "        ds_conc = ds_conc.sel(time=~ds_conc.indexes['time'].duplicated())\n",
    "        ds_orig[case_name] = ds_conc #xr.concat(ls,'time')\n",
    "        dic_mod_all[case_name] = ds_orig[case_name]# = s.return_Nd_ds()\n",
    "\n",
    "else:\n",
    "    dic_mod_all = {}\n",
    "    dic_sec = {}\n",
    "    dic_sized ={}\n",
    "    for case in cases_sec:\n",
    "        fn = get_fn_tmp(case, from_t, to_t)\n",
    "        if os.path.isfile(fn):\n",
    "            continue\n",
    "        else:\n",
    "            cases_loaded.append(case)\n",
    "        s = SizedistributionStation.SizedistributionStation(case, from_t, to_t,\n",
    "                                                        [minDiameter, maxDiameter], True, time_resolution,\n",
    "                                                        history_field=history_field)\n",
    "        ds_conc=s.get_collocated_dataset()\n",
    "        dic_mod_all[case]=ds_conc\n",
    "        dic_sec[case] = ds_conc#redo=True)\n",
    "        dic_sized[case] = s\n",
    "\n",
    "    dic_orig = {}\n",
    "    for case in cases_orig:\n",
    "        fn = get_fn_tmp(case, from_t, to_t)\n",
    "        if os.path.isfile(fn):\n",
    "            print(f'found file; {fn}')\n",
    "            continue\n",
    "\n",
    "        else:\n",
    "            cases_loaded.append(case)\n",
    "        s = SizedistributionStation.SizedistributionStation(case, from_t, to_t,\n",
    "                                                        [minDiameter, maxDiameter], False, time_resolution,\n",
    "                                                        history_field=history_field)\n",
    "        ds_conc=s.get_collocated_dataset()\n",
    "        dic_mod_all[case]=ds_conc\n",
    "        dic_orig[case] = ds_conc#redo=True)\n",
    "        dic_sized[case] = s\n",
    "\n"
   ]
  },
  {
   "cell_type": "code",
   "execution_count": null,
   "metadata": {},
   "outputs": [],
   "source": []
  },
  {
   "cell_type": "code",
   "execution_count": 17,
   "metadata": {},
   "outputs": [],
   "source": [
    "from useful_scit.util.make_folders import  make_folders\n",
    "from dask.diagnostics import ProgressBar\n",
    "\n",
    "\n",
    "make_folders(path_tmp)\n",
    "for case in cases_loaded[::-1]:\n",
    "    fn = get_fn_tmp(case, from_t, to_t)\n",
    "    print(fn)\n",
    "    #fn = path_tmp + '%s_concat_dNdlogDs.nc'%case\n",
    "    delayed_obj = dic_mod_all[case].to_netcdf(fn, compute=False)\n",
    "    with ProgressBar():\n",
    "        results = delayed_obj.compute()\n",
    "    dic_mod_all[case].close()"
   ]
  },
  {
   "cell_type": "code",
   "execution_count": 12,
   "metadata": {},
   "outputs": [],
   "source": [
    "dic_mod_all = {}"
   ]
  },
  {
   "cell_type": "code",
   "execution_count": 14,
   "metadata": {},
   "outputs": [],
   "source": [
    "from useful_scit.util.make_folders import  make_folders\n",
    "make_folders(path_tmp)\n",
    "for case in cases:\n",
    "    fn = get_fn_tmp(case, from_t, to_t)\n",
    "\n",
    "    dic_mod_all[case] = xr.open_dataset(fn)"
   ]
  },
  {
   "cell_type": "markdown",
   "metadata": {},
   "source": [
    "## Calculate DISTC dataset for model"
   ]
  },
  {
   "cell_type": "code",
   "execution_count": 15,
   "metadata": {
    "lines_to_next_cell": 2
   },
   "outputs": [
    {
     "name": "stderr",
     "output_type": "stream",
     "text": [
      "2020-07-08 14:59:14,721 useful_scit  INFO     Computing percentiles for flag SUM:\n"
     ]
    },
    {
     "name": "stdout",
     "output_type": "stream",
     "text": [
      "combining to total distribution:\n",
      "Computing all subsets and flags\n",
      "2020-07-08 14:59:14,721 useful_scit  INFO     Computing percentiles for flag SUM:\n"
     ]
    },
    {
     "name": "stderr",
     "output_type": "stream",
     "text": [
      "2020-07-08 15:00:06,911 useful_scit  INFO     Computing percentiles for SUM\n"
     ]
    },
    {
     "name": "stdout",
     "output_type": "stream",
     "text": [
      "2020-07-08 15:00:06,911 useful_scit  INFO     Computing percentiles for SUM\n"
     ]
    },
    {
     "name": "stderr",
     "output_type": "stream",
     "text": [
      "2020-07-08 15:01:55,262 useful_scit  INFO     Computing percentiles for flag NIG:\n"
     ]
    },
    {
     "name": "stdout",
     "output_type": "stream",
     "text": [
      "2020-07-08 15:01:55,262 useful_scit  INFO     Computing percentiles for flag NIG:\n"
     ]
    },
    {
     "name": "stderr",
     "output_type": "stream",
     "text": [
      "2020-07-08 15:02:20,662 useful_scit  INFO     Computing percentiles for NIG\n"
     ]
    },
    {
     "name": "stdout",
     "output_type": "stream",
     "text": [
      "2020-07-08 15:02:20,662 useful_scit  INFO     Computing percentiles for NIG\n"
     ]
    },
    {
     "name": "stderr",
     "output_type": "stream",
     "text": [
      "2020-07-08 15:04:07,169 useful_scit  INFO     Computing percentiles for flag TOT:\n"
     ]
    },
    {
     "name": "stdout",
     "output_type": "stream",
     "text": [
      "2020-07-08 15:04:07,169 useful_scit  INFO     Computing percentiles for flag TOT:\n"
     ]
    },
    {
     "name": "stderr",
     "output_type": "stream",
     "text": [
      "2020-07-08 15:04:32,575 useful_scit  INFO     Computing percentiles for TOT\n"
     ]
    },
    {
     "name": "stdout",
     "output_type": "stream",
     "text": [
      "2020-07-08 15:04:32,575 useful_scit  INFO     Computing percentiles for TOT\n"
     ]
    },
    {
     "name": "stderr",
     "output_type": "stream",
     "text": [
      "2020-07-08 15:06:23,346 useful_scit  INFO     Computing percentiles for flag DAY:\n"
     ]
    },
    {
     "name": "stdout",
     "output_type": "stream",
     "text": [
      "2020-07-08 15:06:23,346 useful_scit  INFO     Computing percentiles for flag DAY:\n"
     ]
    },
    {
     "name": "stderr",
     "output_type": "stream",
     "text": [
      "2020-07-08 15:06:45,875 useful_scit  INFO     Computing percentiles for DAY\n"
     ]
    },
    {
     "name": "stdout",
     "output_type": "stream",
     "text": [
      "2020-07-08 15:06:45,875 useful_scit  INFO     Computing percentiles for DAY\n"
     ]
    },
    {
     "name": "stderr",
     "output_type": "stream",
     "text": [
      "2020-07-08 15:08:36,325 useful_scit  INFO     Computing percentiles for flag SPR:\n"
     ]
    },
    {
     "name": "stdout",
     "output_type": "stream",
     "text": [
      "2020-07-08 15:08:36,325 useful_scit  INFO     Computing percentiles for flag SPR:\n"
     ]
    },
    {
     "name": "stderr",
     "output_type": "stream",
     "text": [
      "2020-07-08 15:09:00,957 useful_scit  INFO     Computing percentiles for SPR\n"
     ]
    },
    {
     "name": "stdout",
     "output_type": "stream",
     "text": [
      "2020-07-08 15:09:00,957 useful_scit  INFO     Computing percentiles for SPR\n"
     ]
    },
    {
     "name": "stderr",
     "output_type": "stream",
     "text": [
      "/persistent01/miniconda3/envs/env_sec_v2/lib/python3.6/site-packages/numpy/lib/nanfunctions.py:1391: RuntimeWarning: All-NaN slice encountered\n",
      "  overwrite_input, interpolation)\n",
      "2020-07-08 15:10:43,311 useful_scit  INFO     Computing percentiles for flag AUT:\n"
     ]
    },
    {
     "name": "stdout",
     "output_type": "stream",
     "text": [
      "2020-07-08 15:10:43,311 useful_scit  INFO     Computing percentiles for flag AUT:\n"
     ]
    },
    {
     "name": "stderr",
     "output_type": "stream",
     "text": [
      "2020-07-08 15:11:16,225 useful_scit  INFO     Computing percentiles for AUT\n"
     ]
    },
    {
     "name": "stdout",
     "output_type": "stream",
     "text": [
      "2020-07-08 15:11:16,225 useful_scit  INFO     Computing percentiles for AUT\n"
     ]
    },
    {
     "name": "stderr",
     "output_type": "stream",
     "text": [
      "2020-07-08 15:12:55,466 useful_scit  INFO     Computing percentiles for flag WIN:\n"
     ]
    },
    {
     "name": "stdout",
     "output_type": "stream",
     "text": [
      "2020-07-08 15:12:55,466 useful_scit  INFO     Computing percentiles for flag WIN:\n"
     ]
    },
    {
     "name": "stderr",
     "output_type": "stream",
     "text": [
      "2020-07-08 15:13:20,658 useful_scit  INFO     Computing percentiles for WIN\n"
     ]
    },
    {
     "name": "stdout",
     "output_type": "stream",
     "text": [
      "2020-07-08 15:13:20,658 useful_scit  INFO     Computing percentiles for WIN\n",
      "[########################################] | 100% Completed |  0.2s\n"
     ]
    }
   ],
   "source": [
    "dic_finish = {}\n",
    "for case_name in dic_mod_all.keys():\n",
    "    _ds = dic_mod_all[case_name]\n",
    "    ds = get_all_distc_noresm(case_name, from_t, to_t, ds=_ds, recompute=True)\n",
    "    dic_finish[case_name] = ds"
   ]
  },
  {
   "cell_type": "code",
   "execution_count": null,
   "metadata": {},
   "outputs": [],
   "source": []
  }
 ],
 "metadata": {
  "jupytext": {
   "text_representation": {
    "extension": ".py",
    "format_name": "percent",
    "format_version": "1.3",
    "jupytext_version": "1.3.2"
   }
  },
  "kernelspec": {
   "display_name": "Python 3",
   "language": "python",
   "name": "python3"
  },
  "language_info": {
   "codemirror_mode": {
    "name": "ipython",
    "version": 3
   },
   "file_extension": ".py",
   "mimetype": "text/x-python",
   "name": "python",
   "nbconvert_exporter": "python",
   "pygments_lexer": "ipython3",
   "version": "3.6.7"
  }
 },
 "nbformat": 4,
 "nbformat_minor": 4
}
