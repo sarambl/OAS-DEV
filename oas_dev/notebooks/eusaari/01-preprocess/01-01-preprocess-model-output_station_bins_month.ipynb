{
 "cells": [
  {
   "cell_type": "code",
   "execution_count": 1,
   "metadata": {},
   "outputs": [
    {
     "name": "stdout",
     "output_type": "stream",
     "text": [
      "/home/ubuntu/mnts/nird/projects//Output_data_SECTIONAL_SCHEME/\n",
      "/home/ubuntu/mnts/nird/projects/SECTIONAL_v2/sectional_v2/data_info/area_defs.csv\n"
     ]
    }
   ],
   "source": [
    "from sectional_v2.preprocess.launch_monthly_station_collocation import launch_monthly_station_output\n",
    "from sectional_v2.util.Nd.sizedist_class_v2.SizedistributionBins import SizedistributionStationBins\n",
    "from sectional_v2.util.collocate.collocateLONLAToutput import CollocateLONLATout\n",
    "from sectional_v2.constants import list_sized_vars_nonsec, list_sized_vars_noresm\n",
    "import useful_scit.util.log as log\n",
    "log.ger.setLevel(log.log.INFO)\n",
    "import time"
   ]
  },
  {
   "cell_type": "markdown",
   "metadata": {},
   "source": [
    "## Settings:"
   ]
  },
  {
   "cell_type": "code",
   "execution_count": null,
   "metadata": {},
   "outputs": [],
   "source": [
    "nr_of_bins = 5\n",
    "maxDiameter = 39.6  #    23.6 #e-9\n",
    "minDiameter = 5.0  # e-9\n",
    "history_field='.h1.'"
   ]
  },
  {
   "cell_type": "code",
   "execution_count": null,
   "metadata": {},
   "outputs": [],
   "source": [
    "from_t = '2009-01-01'\n",
    "to_t = '2010-01-01'"
   ]
  },
  {
   "cell_type": "markdown",
   "metadata": {},
   "source": [
    "## Cases:"
   ]
  },
  {
   "cell_type": "code",
   "execution_count": null,
   "metadata": {},
   "outputs": [],
   "source": [
    "cases_sec = ['SECTv21_ctrl_koagD']#'SECTv21_ctrl_def','SECTv11_noresm2_ctrl', 'SECTv11_ctrl_fbvoc','SECTv11_noresm2_adj','SECTv11_noresm2_eq18']#'SECTv11_noresm2_NFHIST']#'SECTv11_ctrl_fbvoc']#'SECTv11_ctrl']#,'SECTv11_ctrl_fbvoc']#'SECTv11_ctrl']\n",
    "cases_orig = ['noSECTv21_default_dd', 'noSECTv21_ox_ricc_dd']#, 'noSECTv21_ox_ricc']#'noSECTv11_noresm2_ricc', 'noSECTv11_noresm2_ctrl', 'noSECTv11_ctrl_fbvoc','noSECTv11_ctrl']#'noSECTv11_noresm2_NFHIST']#'noSECTv11_ctrl_fbvoc'] #/no SECTv11_ctrl"
   ]
  },
  {
   "cell_type": "code",
   "execution_count": null,
   "metadata": {},
   "outputs": [],
   "source": [
    " \n",
    "log.ger.info(f'TIMES:****: {from_t} {to_t}')"
   ]
  },
  {
   "cell_type": "markdown",
   "metadata": {},
   "source": [
    "## launches subprocesses that compute monthly"
   ]
  },
  {
   "cell_type": "code",
   "execution_count": null,
   "metadata": {},
   "outputs": [],
   "source": [
    "for case_name in cases_sec:\n",
    "    launch_monthly_station_output(case_name, True, from_time=from_t, to_time=to_t)\n",
    "for case_name in cases_orig:\n",
    "    launch_monthly_station_output(case_name, False, from_time=from_t, to_time=to_t)\n",
    "\n",
    "    "
   ]
  },
  {
   "cell_type": "markdown",
   "metadata": {},
   "source": [
    "## Merge monthly"
   ]
  },
  {
   "cell_type": "code",
   "execution_count": null,
   "metadata": {},
   "outputs": [],
   "source": [
    "for case_name in cases_sec:\n",
    "    varlist = list_sized_vars_noresm\n",
    "    c = CollocateLONLATout(case_name, from_t, to_t,\n",
    "                           True,\n",
    "                           'hour',\n",
    "                           history_field=history_field)\n",
    "    if c.check_if_load_raw_necessary(varlist ):\n",
    "        time1 = time.time()\n",
    "        a = c.make_station_data_merge_monthly(varlist)\n",
    "        print(a)\n",
    "\n",
    "        time2 = time.time()\n",
    "        print('DONE : took {:.3f} s'.format( (time2-time1)))\n",
    "    else:\n",
    "        print('UUUPS')\n",
    "for case_name in cases_orig:\n",
    "    varlist = list_sized_vars_nonsec# list_sized_vars_noresm\n",
    "    c = CollocateLONLATout(case_name, from_t, to_t,\n",
    "                           False,\n",
    "                           'hour',\n",
    "                           history_field=history_field)\n",
    "    if c.check_if_load_raw_necessary(varlist ):\n",
    "        time1 = time.time()\n",
    "        a = c.make_station_data_merge_monthly(varlist)\n",
    "        print(a)\n",
    "\n",
    "        time2 = time.time()\n",
    "        print('DONE : took {:.3f} s'.format( (time2-time1)))\n",
    "    else:\n",
    "        print('UUUPS')\n",
    "\n",
    "# %%"
   ]
  },
  {
   "cell_type": "markdown",
   "metadata": {},
   "source": [
    "\n",
    "## Compute binned dataset"
   ]
  },
  {
   "cell_type": "markdown",
   "metadata": {},
   "source": [
    "### Make station N50 etc."
   ]
  },
  {
   "cell_type": "code",
   "execution_count": null,
   "metadata": {},
   "outputs": [],
   "source": [
    "for case_name in cases_sec:\n",
    "    s = SizedistributionStationBins(case_name, from_t, to_t, [minDiameter, maxDiameter], True, 'hour',\n",
    "                 nr_bins=nr_of_bins, history_field=history_field)\n",
    "    s.compute_Nd_vars()\n",
    "\n",
    "for case_name in cases_orig:\n",
    "    s = SizedistributionStationBins(case_name, from_t, to_t, [minDiameter, maxDiameter], False, 'hour',\n",
    "                                    nr_bins=nr_of_bins, history_field=history_field)\n",
    "    s.compute_Nd_vars()"
   ]
  }
 ],
 "metadata": {
  "jupytext": {
   "text_representation": {
    "extension": ".py",
    "format_name": "percent",
    "format_version": "1.3",
    "jupytext_version": "1.3.2"
   }
  },
  "kernelspec": {
   "display_name": "Python 3",
   "language": "python",
   "name": "python3"
  },
  "language_info": {
   "codemirror_mode": {
    "name": "ipython",
    "version": 3
   },
   "file_extension": ".py",
   "mimetype": "text/x-python",
   "name": "python",
   "nbconvert_exporter": "python",
   "pygments_lexer": "ipython3",
   "version": "3.6.7"
  }
 },
 "nbformat": 4,
 "nbformat_minor": 4
}
