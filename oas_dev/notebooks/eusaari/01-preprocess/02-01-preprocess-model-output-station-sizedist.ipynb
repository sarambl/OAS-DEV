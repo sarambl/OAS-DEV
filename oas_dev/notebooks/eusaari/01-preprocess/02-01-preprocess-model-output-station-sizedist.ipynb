{
 "cells": [
  {
   "cell_type": "code",
   "execution_count": 6,
   "metadata": {},
   "outputs": [],
   "source": [
    "%matplotlib inline\n",
    "\n",
    "from dask.distributed import Client\n",
    "import xarray as xr"
   ]
  },
  {
   "cell_type": "markdown",
   "metadata": {},
   "source": [
    "## Imports:"
   ]
  },
  {
   "cell_type": "code",
   "execution_count": 7,
   "metadata": {},
   "outputs": [],
   "source": [
    "from oas_dev.util.Nd.sizedist_class_v2.SizedistributionBins import SizedistributionStationBins\n",
    "from sectional_v2.util.Nd.sizedist_class_v2.SizedistributionStation import SizedistributionStation\n",
    "from sectional_v2.util.collocate.collocateLONLAToutput import CollocateLONLATout\n",
    "from sectional_v2.constants import sized_varListNorESM, list_sized_vars_noresm, list_sized_vars_nonsec\n",
    "#from useful_scit.util import log\n",
    "import useful_scit.util.log as log\n",
    "import time\n",
    "log.ger.setLevel(log.log.INFO)"
   ]
  },
  {
   "cell_type": "markdown",
   "metadata": {},
   "source": [
    "## Settings models:\n",
    "\n",
    "Should run for one year at a time, i.e. set first \n",
    "```python \n",
    "from_t = '2008-01-01'\n",
    "to_t = '2009-01-01'\n",
    "```\n",
    "then,\n",
    "```python \n",
    "from_t = '2009-01-01'\n",
    "to_t = '2010-01-01'\n",
    "```"
   ]
  },
  {
   "cell_type": "code",
   "execution_count": null,
   "metadata": {
    "lines_to_next_cell": 2
   },
   "outputs": [],
   "source": [
    "nr_of_bins = 5\n",
    "maxDiameter = 39.6  #    23.6 #e-9\n",
    "minDiameter = 5.0  # e-9\n",
    "history_field='.h1.'\n",
    "variables = sized_varListNorESM['NCONC'] + sized_varListNorESM['NMR'] + sized_varListNorESM['SIGMA']\n",
    "cases_sec = []#'SECTv11_ctrl']\n",
    "cases_orig =[]#'noSECTv11_ctrl'] #/noSECTv11_ctrl\n",
    "cases_sec = ['SECTv11_noresm2_ctrl']#'SECTv11_ctrl_fbvoc']#'SECTv11_ctrl']#,'SECTv11_ctrl_fbvoc']#'SECTv11_ctrl']\n",
    "cases_orig =['noSECTv11_noresm2_ricc']#'noSECTv11_ctrl_fbvoc'] #/no SECTv11_ctrl\n",
    "\n",
    "from_t = '2008-01-01'\n",
    "to_t = '2009-01-01'\n",
    "cases_sec = ['SECTv11_noresm2_ctrl', 'SECTv11_noresm2_SP']#'SECTv11_noresm2_adj', 'SECTv11_noresm2_eq18', 'SECTv11_noresm2_ctrl']#'SECTv11_noresm2_NFHIST']#'SECTv11_ctrl_fbvoc']#'SECTv11_ctrl']#,'SECTv11_ctrl_fbvoc']#'SECTv11_ctrl']\n",
    "cases_orig =['noSECTv11_noresm2_ricc', 'noSECTv11_noresm2_ctrl','noSECTv11_ctrl']#'noSECTv11_noresm2_NFHIST']#'noSECTv11_ctrl_fbvoc'] #/no SECTv11_ctrl\n",
    "from_t = '2007-06-01'\n",
    "to_t = '2007-06-06'\n",
    "cases_sec = ['SECTv11_noresm2_adj_sct_1dt']#'SECTv11_noresm2_2000','SECTv11_noresm2_eq20','SECTv11_noresm2_nr','SECTv11_noresm2_ctrl', 'SECTv11_noresm2_ctrl_s', 'SECTv11_ctrl_fbvoc','SECTv11_noresm2_adj','SECTv11_noresm2_adj_s','SECTv11_noresm2_eq18'][::-1]#'SECTv11_noresm2_NFHIST']#'SECTv11_ctrl_fbvoc']#'SECTv11_ctrl']#,'SECTv11_ctrl_fbvoc']#'SECTv11_ctrl']\n",
    "cases_orig =['noSECTv11_noresm2_ricc_oxdiur']#'noSECTv11_noresm2_ricc_oxdiur_radup','noSECTv11_noresm2_ricc_oxdiur','noSECTv11_noresm2_ricc', 'noSECTv11_noresm2_ctrl', 'noSECTv11_ctrl_fbvoc','noSECTv11_ctrl']#'noSECTv11_noresm2_NFHIST']#'noSECTv11_ctrl_fbvoc'] #/no SECTv11_ctrl\n",
    "from_t = '2007-04-01'\n",
    "to_t = '2007-05-01'\n",
    "t1 =time.time()\n",
    "cases_sec = ['SECTv21_ctrl', 'SECTv21_ctrl_koagD']#,'SECTv21_ctrl_def',]#'SECTv11_noresm2_ctrl', 'SECTv11_ctrl_fbvoc','SECTv11_noresm2_adj','SECTv11_noresm2_eq18']#'SECTv11_noresm2_NFHIST']#'SECTv11_ctrl_fbvoc']#'SECTv11_ctrl']#,'SECTv11_ctrl_fbvoc']#'SECTv11_ctrl']\n",
    "cases_orig =['noSECTv21_default_dd', 'noSECTv21_ox_ricc_dd']#'noSECTv11_noresm2_ricc', 'noSECTv11_noresm2_ctrl', 'noSECTv11_ctrl_fbvoc','noSECTv11_ctrl']#'noSECTv11_noresm2_NFHIST']#'noSECTv11_ctrl_fbvoc'] #/no SECTv11_ctrl\n",
    "from_t = '2009-01-01'\n",
    "to_t = '2010-01-01'\n",
    "\n",
    "#cases_sec = ['SECTv11_noresm2_ctrl','SECTv11_noresm2_adj_s','SECTv11_noresm2_adj']#[::-1] # 'SECTv11_noresm2_NFHIST']#'SECTv11_ctrl_fbvoc']#'SECTv11_ctrl']#,'SECTv11_ctrl_fbvoc']#'SECTv11_ctrl']\n",
    "#cases_orig =['noSECTv11_noresm2_ricc', 'noSECTv11_noresm2_ctrl']#, 'noSECTv11_ctrl_fbvoc']#['noSECTv11_noresm2_ricc','noSECTv11_ctrl'] # 'noSECTv11_noresm2_NFHIST']#'noSECTv11_ctrl_fbvoc'] #/no SECTv11_ctrl\n",
    "#from_t = '2007-01-01'\n",
    "#to_t = '2007-01-05'"
   ]
  },
  {
   "cell_type": "markdown",
   "metadata": {},
   "source": [
    "## Collocate NCONC\\*, NMR\\* and SIGMA\\*"
   ]
  },
  {
   "cell_type": "code",
   "execution_count": 9,
   "metadata": {},
   "outputs": [],
   "source": [
    "for case_name in cases_sec:\n",
    "    varlist = list_sized_vars_noresm\n",
    "    c = CollocateLONLATout(case_name, from_t, to_t,\n",
    "                           True,\n",
    "                           'hour',\n",
    "                           history_field=history_field)\n",
    "    if c.check_if_load_raw_necessary(varlist ):\n",
    "        a = c.make_station_data_all()\n",
    "for case_name in cases_orig:\n",
    "    varlist = list_sized_vars_nonsec\n",
    "    c = CollocateLONLATout(case_name, from_t, to_t,\n",
    "                           False,\n",
    "                           'hour',\n",
    "                           history_field=history_field)\n",
    "    if c.check_if_load_raw_necessary(varlist ):\n",
    "        a = c.make_station_data_all()"
   ]
  },
  {
   "cell_type": "markdown",
   "metadata": {},
   "source": [
    "## Calculate sis"
   ]
  },
  {
   "cell_type": "code",
   "execution_count": 10,
   "metadata": {
    "lines_to_next_cell": 2
   },
   "outputs": [
    {
     "name": "stderr",
     "output_type": "stream",
     "text": [
      "2020-04-09 13:46:40,789 useful_scit  INFO     opening :/home/ubuntu/mnts/nird/projects//Output_data_OAS-DEV//collocated_ds//NorESM/SECTv11_ctrl/dNdlogD_sec_SECTv11_ctrl_2008-01-01_2009-01-01_hour_locations.nc\n"
     ]
    },
    {
     "name": "stdout",
     "output_type": "stream",
     "text": [
      "2020-04-09 13:46:40,789 useful_scit  INFO     opening :/home/ubuntu/mnts/nird/projects//Output_data_OAS-DEV//collocated_ds//NorESM/SECTv11_ctrl/dNdlogD_sec_SECTv11_ctrl_2008-01-01_2009-01-01_hour_locations.nc\n"
     ]
    },
    {
     "name": "stderr",
     "output_type": "stream",
     "text": [
      "2020-04-09 13:46:40,887 useful_scit  INFO     Computing file /home/ubuntu/mnts/nird/projects//Output_data_OAS-DEV//collocated_ds//NorESM/SECTv11_ctrl/dNdlogD_mod_SECTv11_ctrl_2008-01-01_2009-01-01_hour_locations.nc\n"
     ]
    },
    {
     "name": "stdout",
     "output_type": "stream",
     "text": [
      "2020-04-09 13:46:40,887 useful_scit  INFO     Computing file /home/ubuntu/mnts/nird/projects//Output_data_OAS-DEV//collocated_ds//NorESM/SECTv11_ctrl/dNdlogD_mod_SECTv11_ctrl_2008-01-01_2009-01-01_hour_locations.nc\n",
      "[########################################] | 100% Completed |  3hr  4min 26.1s\n"
     ]
    },
    {
     "name": "stderr",
     "output_type": "stream",
     "text": [
      "2020-04-09 16:51:12,876 useful_scit  INFO     Modal tot file found /home/ubuntu/mnts/nird/projects//Output_data_OAS-DEV//collocated_ds//NorESM/noSECTv11_ctrl/dNdlogD_mod_noSECTv11_ctrl_2008-01-01_2009-01-01_hour_locations.nc\n"
     ]
    },
    {
     "name": "stdout",
     "output_type": "stream",
     "text": [
      "2020-04-09 16:51:12,876 useful_scit  INFO     Modal tot file found /home/ubuntu/mnts/nird/projects//Output_data_OAS-DEV//collocated_ds//NorESM/noSECTv11_ctrl/dNdlogD_mod_noSECTv11_ctrl_2008-01-01_2009-01-01_hour_locations.nc\n",
      "Completed compute_sizedist_mod_tot in 0.9917726516723633 s\n"
     ]
    }
   ],
   "source": [
    "\n",
    "# Make station N50 etc.\n",
    "for case_name in cases_sec:\n",
    "    s = SizedistributionStation(case_name, from_t, to_t, [minDiameter, maxDiameter], True, 'hour',\n",
    "                 nr_bins=nr_of_bins, history_field=history_field)\n",
    "    #s.compute_Nd_vars()\n",
    "    s.compute_sizedist_tot()\n",
    "for case_name in cases_orig:\n",
    "    t1 =time.time()\n",
    "\n",
    "    s = SizedistributionStation(case_name, from_t, to_t, [minDiameter, maxDiameter], False, 'hour',\n",
    "                                    nr_bins=nr_of_bins, history_field=history_field)\n",
    "    #s.compute_Nd_vars()\n",
    "    a = s.compute_sizedist_mod_tot()\n",
    "    t2 =time.time()"
   ]
  },
  {
   "cell_type": "code",
   "execution_count": null,
   "metadata": {},
   "outputs": [],
   "source": []
  }
 ],
 "metadata": {
  "jupytext": {
   "text_representation": {
    "extension": ".py",
    "format_name": "percent",
    "format_version": "1.3",
    "jupytext_version": "1.3.2"
   }
  },
  "kernelspec": {
   "display_name": "Python 3",
   "language": "python",
   "name": "python3"
  },
  "language_info": {
   "codemirror_mode": {
    "name": "ipython",
    "version": 3
   },
   "file_extension": ".py",
   "mimetype": "text/x-python",
   "name": "python",
   "nbconvert_exporter": "python",
   "pygments_lexer": "ipython3",
   "version": "3.6.7"
  }
 },
 "nbformat": 4,
 "nbformat_minor": 4
}
