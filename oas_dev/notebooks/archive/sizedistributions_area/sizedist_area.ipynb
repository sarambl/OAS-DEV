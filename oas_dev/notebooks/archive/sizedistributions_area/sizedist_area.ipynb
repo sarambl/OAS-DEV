{
 "cells": [
  {
   "cell_type": "code",
   "execution_count": null,
   "metadata": {
    "collapsed": true,
    "jupyter": {
     "outputs_hidden": true
    }
   },
   "outputs": [],
   "source": [
    "from useful_scit.imps import (np, plt)\n",
    " \n",
    "import sectional_v2.constants as constants\n",
    "import useful_scit.util.log as log\n",
    "from sectional_v2.util.plot.combination_plots import plot_sizedist_time_cases, \\\n",
    "    plot_seasonal_surface_loc_sizedistributions\n"
   ]
  },
  {
   "cell_type": "code",
   "execution_count": null,
   "metadata": {
    "collapsed": false,
    "jupyter": {
     "outputs_hidden": false
    },
    "pycharm": {
     "name": "#%%\n"
    }
   },
   "outputs": [],
   "source": [
    "\n",
    "avg_over_lev = True  # True#True#False#True\n",
    "pressure_adjust = True  # Can only be false if avg_over_lev false. Plots particular hybrid sigma lev\n",
    "if avg_over_lev:\n",
    "    pressure_adjust = True\n",
    "\n",
    "cases_sec = ['PD_SECT_CHC7_diur_ricc_incC','PD_SECT_CHC7_diur_ricc', 'PD_SECT_CHC7_diurnal']# , 'PD_SECT_CHC7_diur_ricc_incC']\n",
    "cases_orig = ['PD_noSECT_nudgeERA_eq_ricc','PD_noSECT_nudgeERA_eq20']#'Original eq.20']  # , 'Original eq.18','Original eq.20, 1.5xBVOC','Original eq.20, rednuc']\n",
    "\n",
    "cases = cases_sec + cases_orig\n",
    "\n",
    "models = ['NorESM']\n",
    "Path_local = constants.get_input_datapath(models[0])\n",
    "\n",
    "history_field ='.h1.'\n",
    "Path = {'NorESM': Path_local}\n",
    "from_t = '2008-01-01'\n",
    "to_t = '2009-01-01'\n",
    "\n",
    "nr_of_bins = 5\n",
    "maxDiameter = 39.6  # 23.6 #e-9\n",
    "minDiameter = 5.0  # e-9\n",
    "\n",
    "time_resolution = 'month'\n",
    "\n",
    "# %%\n",
    "log.ger.setLevel(log.log.WARNING)\n",
    "\n",
    " \n"
   ]
  }
 ],
 "metadata": {
  "kernelspec": {
   "display_name": "Python 3",
   "language": "python",
   "name": "python3"
  },
  "language_info": {
   "codemirror_mode": {
    "name": "ipython",
    "version": 3
   },
   "file_extension": ".py",
   "mimetype": "text/x-python",
   "name": "python",
   "nbconvert_exporter": "python",
   "pygments_lexer": "ipython3",
   "version": "3.6.7"
  },
  "pycharm": {
   "stem_cell": {
    "cell_type": "raw",
    "metadata": {
     "collapsed": false
    },
    "source": []
   }
  }
 },
 "nbformat": 4,
 "nbformat_minor": 4
}
