{
 "cells": [
  {
   "cell_type": "code",
   "execution_count": null,
   "metadata": {},
   "outputs": [],
   "source": []
  },
  {
   "cell_type": "code",
   "execution_count": 1,
   "metadata": {},
   "outputs": [
    {
     "name": "stdout",
     "output_type": "stream",
     "text": [
      "/home/ubuntu/mnts/nird/projects//Output_data_OAS-DEV/\n",
      "/home/ubuntu/mnts/nird/projects/OAS-DEV/sectional_v2/data_info/area_defs.csv\n",
      "The autoreload extension is already loaded. To reload it, use:\n",
      "  %reload_ext autoreload\n"
     ]
    }
   ],
   "source": [
    "import matplotlib.colors as colors\n",
    "# load and autoreload\n",
    "from IPython import get_ipython\n",
    "from useful_scit.imps import (np, plt)\n",
    "\n",
    "from sectional_v2.data_info import get_nice_name_case\n",
    "from sectional_v2.util.imports import get_averaged_fields\n",
    "from sectional_v2.util.imports.get_fld_fixed import get_field_fixed\n",
    "from sectional_v2.util.plot.plot_levlat import  plot_levlat_abs, plot_levlat_diff, get_cbar_eq_kwargs, make_cbar_kwargs, set_vmin_vmax, set_vmin_vmax_abs\n",
    "from sectional_v2.constants import get_plotpath\n",
    "from sectional_v2.util.practical_functions import make_folders\n",
    "from sectional_v2.util.naming_conventions.var_info import get_fancy_var_name, get_fancy_unit_xr\n",
    "\n",
    "\n",
    "# noinspection PyBroadException\n",
    "try:\n",
    "    _ipython = get_ipython()\n",
    "    _magic = _ipython.magic\n",
    "    _magic('load_ext autoreload')\n",
    "    _magic('autoreload 2')\n",
    "except:\n",
    "    pass"
   ]
  },
  {
   "cell_type": "code",
   "execution_count": 2,
   "metadata": {},
   "outputs": [],
   "source": [
    "from useful_scit.plot.fig_manip import subp_insert_abc"
   ]
  },
  {
   "cell_type": "code",
   "execution_count": 3,
   "metadata": {},
   "outputs": [],
   "source": [
    "model = 'NorESM'\n",
    "\n",
    "startyear = '2008-01'\n",
    "endyear = '2014-12'\n",
    "p_level = 1013.\n",
    "pmin = 850.  # minimum pressure level\n",
    "avg_over_lev = True  # True#True#False#True\n",
    "pressure_adjust = True  # Can only be false if avg_over_lev false. Plots particular hybrid sigma lev\n",
    "p_levels = [1013., 900., 800., 700., 600.]  # used if not avg"
   ]
  },
  {
   "cell_type": "markdown",
   "metadata": {},
   "source": [
    "## Cases"
   ]
  },
  {
   "cell_type": "code",
   "execution_count": 4,
   "metadata": {},
   "outputs": [],
   "source": [
    "cases_sec = ['SECTv21_ctrl_koagD']\n",
    "cases_orig = ['noSECTv21_default_dd', 'noSECTv21_ox_ricc_dd']\n",
    "# cases_orig =['noSECTv21_ox_ricc']\n",
    "\n",
    "cases = cases_orig + cases_sec"
   ]
  },
  {
   "cell_type": "code",
   "execution_count": null,
   "metadata": {},
   "outputs": [],
   "source": []
  },
  {
   "cell_type": "code",
   "execution_count": 5,
   "metadata": {},
   "outputs": [],
   "source": [
    "version = 'v21dd_abs'\n",
    "plot_path = get_plotpath('levlat')\n",
    "filen_base = plot_path + '/_%s' % version\n",
    "# print(plot_path)\n",
    "make_folders(plot_path)"
   ]
  },
  {
   "cell_type": "code",
   "execution_count": null,
   "metadata": {
    "lines_to_next_cell": 0
   },
   "outputs": [],
   "source": []
  },
  {
   "cell_type": "code",
   "execution_count": 6,
   "metadata": {},
   "outputs": [],
   "source": [
    "SO4_NA = 'SO4_NA'\n",
    "SOA_NA = 'SOA_NA'\n",
    "def get_frac(case_dic):\n",
    "    for case in case_dic.keys():\n",
    "        ds = case_dic[case]\n",
    "        tot =ds[SO4_NA] + ds[SOA_NA]\n",
    "        fSOA = ds[SOA_NA]/tot*100\n",
    "        fSO4 = ds[SO4_NA]/tot*100\n",
    "        case_dic[case]['fSOA'] =fSOA\n",
    "        case_dic[case]['fSO4'] =fSO4\n",
    "        case_dic[case]['fSOA'].attrs['units'] ='%'\n",
    "        case_dic[case]['fSO4'].attrs['units'] ='%'\n",
    "\n"
   ]
  },
  {
   "cell_type": "code",
   "execution_count": 7,
   "metadata": {},
   "outputs": [],
   "source": [
    "def load_and_plot_abss(varl, case_ctrl, start_time, end_time,\n",
    "                        pressure_coords=True,\n",
    "                        relative=False,\n",
    "                        cbar_orient='vertical',\n",
    "                        asp_ratio=2, subfig_size=3,\n",
    "                        ncol=None,\n",
    "                        ylim=None,\n",
    "                        yscale='log',\n",
    "                        norm=None,\n",
    "                       cmap='Reds'\n",
    "                        ):\n",
    "    if ylim is None:\n",
    "        ylim = [1e3, 100]\n",
    "    cases_dic = get_averaged_fields.get_levlat_cases(cases, varl, start_time, end_time,\n",
    "                                                      pressure_adjust=pressure_coords)\n",
    "    _nv = len(varl)\n",
    "    if ncol is None:\n",
    "        if _nv > 3:\n",
    "            ncol = 2\n",
    "        else:\n",
    "            ncol = 1\n",
    "    # noinspection PyUnresolvedReferences\n",
    "    nrow = int(np.ceil(_nv / ncol))\n",
    "    figsize = [subfig_size * ncol * asp_ratio, subfig_size * nrow]\n",
    "    # noinspection PyTypeChecker\n",
    "    fig, axs = plt.subplots(nrow, ncol, figsize=figsize, sharex=True, sharey=True)\n",
    "    for ax, var in zip(axs.flat, varl):\n",
    "        plot_levlat_abs(var, case_ctrl, cases_dic,\n",
    "                        cbar_orientation=cbar_orient,\n",
    "                        title=None,\n",
    "                        ax=ax,\n",
    "                        ylim=ylim,\n",
    "                        figsize=None,\n",
    "                        cmap=cmap,\n",
    "                        add_colorbar=True,\n",
    "                        norm=norm,\n",
    "                        yscale=yscale\n",
    "                        \n",
    "                    )\n",
    "\n",
    "    return axs\n",
    "\n",
    "\n",
    "def load_and_plot_abs_more_cases(varl, \n",
    "                                 cases, \n",
    "                                 startyear, endyear,\n",
    "                                 pressure_adjust=pressure_adjust,\n",
    "                                 cbar_orientation='vertical',\n",
    "                                 asp_ratio=2, \n",
    "                                 subfig_size=3,\n",
    "                                 ylim=None,\n",
    "                                 yscale='log',\n",
    "                                 cbar_eq=True,\n",
    "                                 norm=None):\n",
    "    if ylim is None:\n",
    "        ylim = [1e3, 100]\n",
    "    imp_cases = cases#list(set(cases).union({case_oth}))\n",
    "    print(imp_cases)\n",
    "    cases_dic = get_averaged_fields.get_levlat_cases(imp_cases, varl, startyear, endyear,\n",
    "                                                     pressure_adjust=pressure_adjust)\n",
    "    ncol = len(cases)\n",
    "    nrow = len(varl)\n",
    "    figsize = [subfig_size * ncol * asp_ratio, subfig_size * nrow]\n",
    "    # noinspection PyTypeChecker\n",
    "    fig, axs = plt.subplots(nrow, ncol, figsize=figsize, sharex=True, sharey=True)\n",
    "    for j, var in enumerate(varl):\n",
    "        saxs = axs[j, :]\n",
    "        levlat_more_cases_var_abs(var, \n",
    "                                  cases, \n",
    "                                  cases_dic, \n",
    "                                  cbar_eq=cbar_eq, \n",
    "                                  cbar_orientation=cbar_orientation, \n",
    "                                  axs = saxs, \n",
    "                                  norm = norm, \n",
    "                                  ylim = ylim,\n",
    "                                  yscale= yscale)\n",
    "    return axs\n",
    "\n",
    "\n",
    "def levlat_more_cases_var_abs(var, \n",
    "                              cases, \n",
    "                              cases_dic, \n",
    "                              cbar_eq=True, \n",
    "                              cbar_orientation='vertical', \n",
    "                              axs=None,\n",
    "                              norm=None, \n",
    "                              ylim=None, \n",
    "                              yscale='log'):\n",
    "    if ylim is None:\n",
    "        ylim = [1e3, 100]\n",
    "    if cbar_eq:\n",
    "        kwargs_plt = dict()\n",
    "        cba_kwargs = set_vmin_vmax_abs(cases, cbar_eq, None, cases_dic, var)\n",
    "        #get_cbar_eq_kwargs(cases, case_oth, relative, cases_dic, var)\n",
    "        if norm is not None:\n",
    "            del cba_kwargs['vmin']\n",
    "            del cba_kwargs['vmax']\n",
    "            del cba_kwargs['robust']\n",
    "\n",
    "    else:\n",
    "        cba_kwargs = None\n",
    "    for i, case_ctrl in enumerate(cases):\n",
    "        ax = axs[i]\n",
    "        # if cbar_eq and i<len(cases)-1:\n",
    "        #    cba_kwargs['add_colorbar']=False\n",
    "        # else:\n",
    "        #    cba_kwargs['add_colorbar']=True\n",
    "        plot_levlat_abs(var, case_ctrl, cases_dic,\n",
    "                        cbar_orientation=cbar_orientation,\n",
    "                        #title=case_ctrl,\n",
    "                        ax=ax,\n",
    "                        ylim=ylim,\n",
    "                        figsize=None,\n",
    "                        add_colorbar=True,\n",
    "                        norm=norm,\n",
    "                        yscale=yscale, \n",
    "                        **cba_kwargs\n",
    "                    )\n",
    "\n"
   ]
  },
  {
   "cell_type": "code",
   "execution_count": 8,
   "metadata": {
    "lines_to_next_cell": 2
   },
   "outputs": [],
   "source": [
    "varlist = ['SOA_NA', 'SO4_NA']\n",
    "cbar_orientation = 'vertical'\n",
    "cases_ctrl = cases_orig\n",
    "case_oth = cases_sec[0]\n",
    "# noinspection PyTypeChecker"
   ]
  },
  {
   "cell_type": "code",
   "execution_count": 9,
   "metadata": {},
   "outputs": [
    {
     "name": "stdout",
     "output_type": "stream",
     "text": [
      "Loading file /home/ubuntu/mnts/nird/projects//Output_data_OAS-DEV//means/levlat_means//NorESM/noSECTv21_default_dd/SOA_NA_2008-01-2014-12.nc\n",
      "Loading file /home/ubuntu/mnts/nird/projects//Output_data_OAS-DEV//means/levlat_means//NorESM/noSECTv21_default_dd/SO4_NA_2008-01-2014-12.nc\n",
      "Did not find levlat mean with filename: /home/ubuntu/mnts/nird/projects//Output_data_OAS-DEV//means/levlat_means//NorESM/noSECTv21_ox_ricc_dd/SOA_NA_2008-01-2014-12.nc \n",
      "Loading file: /home/ubuntu/mnts/nird/projects//Output_data_OAS-DEV//Fields_pressure_coordinates/NorESM/noSECTv21_ox_ricc_dd/SOA_NA_NorESM_noSECTv21_ox_ricc_dd_2008-01-2014-12.nc\n",
      "Did not find levlat mean with filename: /home/ubuntu/mnts/nird/projects//Output_data_OAS-DEV//means/levlat_means//NorESM/noSECTv21_ox_ricc_dd/SOA_NA_2008-01-2014-12.nc \n",
      "Saving dataset to: /home/ubuntu/mnts/nird/projects//Output_data_OAS-DEV//means/levlat_means//NorESM/noSECTv21_ox_ricc_dd/SOA_NA_2008-01-2014-12.nc\n"
     ]
    },
    {
     "name": "stderr",
     "output_type": "stream",
     "text": [
      "/persistent01/miniconda3/envs/env_sec_v2/lib/python3.6/site-packages/dask/core.py:121: RuntimeWarning: invalid value encountered in true_divide\n",
      "  return func(*(_execute_task(a, cache) for a in args))\n"
     ]
    },
    {
     "name": "stdout",
     "output_type": "stream",
     "text": [
      "Did not find levlat mean with filename: /home/ubuntu/mnts/nird/projects//Output_data_OAS-DEV//means/levlat_means//NorESM/noSECTv21_ox_ricc_dd/SO4_NA_2008-01-2014-12.nc \n",
      "Loading file: /home/ubuntu/mnts/nird/projects//Output_data_OAS-DEV//Fields_pressure_coordinates/NorESM/noSECTv21_ox_ricc_dd/SO4_NA_NorESM_noSECTv21_ox_ricc_dd_2008-01-2014-12.nc\n",
      "Did not find levlat mean with filename: /home/ubuntu/mnts/nird/projects//Output_data_OAS-DEV//means/levlat_means//NorESM/noSECTv21_ox_ricc_dd/SO4_NA_2008-01-2014-12.nc \n",
      "Saving dataset to: /home/ubuntu/mnts/nird/projects//Output_data_OAS-DEV//means/levlat_means//NorESM/noSECTv21_ox_ricc_dd/SO4_NA_2008-01-2014-12.nc\n"
     ]
    },
    {
     "name": "stderr",
     "output_type": "stream",
     "text": [
      "/persistent01/miniconda3/envs/env_sec_v2/lib/python3.6/site-packages/dask/core.py:121: RuntimeWarning: invalid value encountered in true_divide\n",
      "  return func(*(_execute_task(a, cache) for a in args))\n"
     ]
    },
    {
     "name": "stdout",
     "output_type": "stream",
     "text": [
      "Did not find levlat mean with filename: /home/ubuntu/mnts/nird/projects//Output_data_OAS-DEV//means/levlat_means//NorESM/SECTv21_ctrl_koagD/SOA_NA_2008-01-2014-12.nc \n",
      "Loading file: /home/ubuntu/mnts/nird/projects//Output_data_OAS-DEV//Fields_pressure_coordinates/NorESM/SECTv21_ctrl_koagD/SOA_NA_NorESM_SECTv21_ctrl_koagD_2008-01-2014-12.nc\n",
      "Did not find levlat mean with filename: /home/ubuntu/mnts/nird/projects//Output_data_OAS-DEV//means/levlat_means//NorESM/SECTv21_ctrl_koagD/SOA_NA_2008-01-2014-12.nc \n",
      "Saving dataset to: /home/ubuntu/mnts/nird/projects//Output_data_OAS-DEV//means/levlat_means//NorESM/SECTv21_ctrl_koagD/SOA_NA_2008-01-2014-12.nc\n"
     ]
    },
    {
     "name": "stderr",
     "output_type": "stream",
     "text": [
      "/persistent01/miniconda3/envs/env_sec_v2/lib/python3.6/site-packages/dask/core.py:121: RuntimeWarning: invalid value encountered in true_divide\n",
      "  return func(*(_execute_task(a, cache) for a in args))\n"
     ]
    },
    {
     "name": "stdout",
     "output_type": "stream",
     "text": [
      "Did not find levlat mean with filename: /home/ubuntu/mnts/nird/projects//Output_data_OAS-DEV//means/levlat_means//NorESM/SECTv21_ctrl_koagD/SO4_NA_2008-01-2014-12.nc \n",
      "Loading file: /home/ubuntu/mnts/nird/projects//Output_data_OAS-DEV//Fields_pressure_coordinates/NorESM/SECTv21_ctrl_koagD/SO4_NA_NorESM_SECTv21_ctrl_koagD_2008-01-2014-12.nc\n",
      "Did not find levlat mean with filename: /home/ubuntu/mnts/nird/projects//Output_data_OAS-DEV//means/levlat_means//NorESM/SECTv21_ctrl_koagD/SO4_NA_2008-01-2014-12.nc \n",
      "Saving dataset to: /home/ubuntu/mnts/nird/projects//Output_data_OAS-DEV//means/levlat_means//NorESM/SECTv21_ctrl_koagD/SO4_NA_2008-01-2014-12.nc\n"
     ]
    },
    {
     "name": "stderr",
     "output_type": "stream",
     "text": [
      "/persistent01/miniconda3/envs/env_sec_v2/lib/python3.6/site-packages/dask/core.py:121: RuntimeWarning: invalid value encountered in true_divide\n",
      "  return func(*(_execute_task(a, cache) for a in args))\n"
     ]
    }
   ],
   "source": [
    "cases_dic = get_averaged_fields.get_levlat_cases(cases, varlist, startyear, endyear,\n",
    "                                                 pressure_adjust=pressure_adjust)"
   ]
  },
  {
   "cell_type": "code",
   "execution_count": 10,
   "metadata": {},
   "outputs": [],
   "source": [
    "get_frac(cases_dic)"
   ]
  },
  {
   "cell_type": "code",
   "execution_count": 11,
   "metadata": {},
   "outputs": [
    {
     "name": "stderr",
     "output_type": "stream",
     "text": [
      "/persistent01/miniconda3/envs/env_sec_v2/lib/python3.6/site-packages/dask/core.py:121: RuntimeWarning: invalid value encountered in true_divide\n",
      "  return func(*(_execute_task(a, cache) for a in args))\n",
      "/persistent01/miniconda3/envs/env_sec_v2/lib/python3.6/site-packages/dask/core.py:121: RuntimeWarning: invalid value encountered in true_divide\n",
      "  return func(*(_execute_task(a, cache) for a in args))\n"
     ]
    },
    {
     "data": {
      "image/png": "[encoded data removed]",
      "text/plain": [
       "<Figure size 898.56x187.2 with 6 Axes>"
      ]
     },
     "metadata": {
      "needs_background": "light"
     },
     "output_type": "display_data"
    }
   ],
   "source": [
    "nrow=1\n",
    "var = 'fSOA'\n",
    "ncol = len(cases)\n",
    "nrow = 1#len(varlist)\n",
    "subfig_size = 2.6\n",
    "asp_ratio = 1.6\n",
    "figsize = [subfig_size * ncol * asp_ratio, subfig_size * nrow]\n",
    "\n",
    "fig, axs = plt.subplots(nrow, ncol, figsize=figsize, sharex=True, sharey=True)\n",
    "levlat_more_cases_var_abs(var,cases, cases_dic, cbar_eq=True,\n",
    "                          cbar_orientation='vertical',\n",
    "                          axs=axs,\n",
    "                          #norm=colors.Lin,\n",
    "                          ylim=[1e3, 200],\n",
    "                          yscale='log')\n",
    "plt.tight_layout()"
   ]
  },
  {
   "cell_type": "markdown",
   "metadata": {},
   "source": [
    "## Cloud properties"
   ]
  },
  {
   "cell_type": "code",
   "execution_count": 12,
   "metadata": {},
   "outputs": [
    {
     "name": "stdout",
     "output_type": "stream",
     "text": [
      "Loading file /home/ubuntu/mnts/nird/projects//Output_data_OAS-DEV//means/levlat_means//NorESM/noSECTv21_default_dd/AWNC_incld_2008-01-2014-12.nc\n",
      "Loading file /home/ubuntu/mnts/nird/projects//Output_data_OAS-DEV//means/levlat_means//NorESM/noSECTv21_default_dd/AREL_incld_2008-01-2014-12.nc\n",
      "Did not find levlat mean with filename: /home/ubuntu/mnts/nird/projects//Output_data_OAS-DEV//means/levlat_means//NorESM/noSECTv21_default_dd/CLOUD_2008-01-2014-12.nc \n",
      "<xarray.DataArray 'time' (time: 84)>\n",
      "array([ 396.,  425.,  456.,  486.,  517.,  547.,  578.,  609.,  639.,  670.,\n",
      "        700.,  731.,  762.,  790.,  821.,  851.,  882.,  912.,  943.,  974.,\n",
      "       1004., 1035., 1065., 1096., 1127., 1155., 1186., 1216., 1247., 1277.,\n",
      "       1308., 1339., 1369., 1400., 1430., 1461., 1492., 1520., 1551., 1581.,\n",
      "       1612., 1642., 1673., 1704., 1734., 1765., 1795., 1826., 1857., 1886.,\n",
      "       1917., 1947., 1978., 2008., 2039., 2070., 2100., 2131., 2161., 2192.,\n",
      "       2223., 2251., 2282., 2312., 2343., 2373., 2404., 2435., 2465., 2496.,\n",
      "       2526., 2557., 2588., 2616., 2647., 2677., 2708., 2738., 2769., 2800.,\n",
      "       2830., 2861., 2891., 2922.])\n",
      "Coordinates:\n",
      "  * time     (time) float64 396.0 425.0 456.0 ... 2.861e+03 2.891e+03 2.922e+03\n",
      "Attributes:\n",
      "    long_name:  time\n",
      "    units:      days since 2007-01-01 00:00:00\n",
      "    calendar:   gregorian\n",
      "    bounds:     time_bnds\n",
      "<xarray.DataArray 'time' (time: 84)>\n",
      "array(['2008-01-17T00:00:00.000000000', '2008-02-15T00:00:00.000000000',\n",
      "       '2008-03-17T00:00:00.000000000', '2008-04-16T00:00:00.000000000',\n",
      "       '2008-05-17T00:00:00.000000000', '2008-06-16T00:00:00.000000000',\n",
      "       '2008-07-17T00:00:00.000000000', '2008-08-17T00:00:00.000000000',\n",
      "       '2008-09-16T00:00:00.000000000', '2008-10-17T00:00:00.000000000',\n",
      "       '2008-11-16T00:00:00.000000000', '2008-12-17T00:00:00.000000000',\n",
      "       '2009-01-17T00:00:00.000000000', '2009-02-14T00:00:00.000000000',\n",
      "       '2009-03-17T00:00:00.000000000', '2009-04-16T00:00:00.000000000',\n",
      "       '2009-05-17T00:00:00.000000000', '2009-06-16T00:00:00.000000000',\n",
      "       '2009-07-17T00:00:00.000000000', '2009-08-17T00:00:00.000000000',\n",
      "       '2009-09-16T00:00:00.000000000', '2009-10-17T00:00:00.000000000',\n",
      "       '2009-11-16T00:00:00.000000000', '2009-12-17T00:00:00.000000000',\n",
      "       '2010-01-17T00:00:00.000000000', '2010-02-14T00:00:00.000000000',\n",
      "       '2010-03-17T00:00:00.000000000', '2010-04-16T00:00:00.000000000',\n",
      "       '2010-05-17T00:00:00.000000000', '2010-06-16T00:00:00.000000000',\n",
      "       '2010-07-17T00:00:00.000000000', '2010-08-17T00:00:00.000000000',\n",
      "       '2010-09-16T00:00:00.000000000', '2010-10-17T00:00:00.000000000',\n",
      "       '2010-11-16T00:00:00.000000000', '2010-12-17T00:00:00.000000000',\n",
      "       '2011-01-17T00:00:00.000000000', '2011-02-14T00:00:00.000000000',\n",
      "       '2011-03-17T00:00:00.000000000', '2011-04-16T00:00:00.000000000',\n",
      "       '2011-05-17T00:00:00.000000000', '2011-06-16T00:00:00.000000000',\n",
      "       '2011-07-17T00:00:00.000000000', '2011-08-17T00:00:00.000000000',\n",
      "       '2011-09-16T00:00:00.000000000', '2011-10-17T00:00:00.000000000',\n",
      "       '2011-11-16T00:00:00.000000000', '2011-12-17T00:00:00.000000000',\n",
      "       '2012-01-17T00:00:00.000000000', '2012-02-15T00:00:00.000000000',\n",
      "       '2012-03-17T00:00:00.000000000', '2012-04-16T00:00:00.000000000',\n",
      "       '2012-05-17T00:00:00.000000000', '2012-06-16T00:00:00.000000000',\n",
      "       '2012-07-17T00:00:00.000000000', '2012-08-17T00:00:00.000000000',\n",
      "       '2012-09-16T00:00:00.000000000', '2012-10-17T00:00:00.000000000',\n",
      "       '2012-11-16T00:00:00.000000000', '2012-12-17T00:00:00.000000000',\n",
      "       '2013-01-17T00:00:00.000000000', '2013-02-14T00:00:00.000000000',\n",
      "       '2013-03-17T00:00:00.000000000', '2013-04-16T00:00:00.000000000',\n",
      "       '2013-05-17T00:00:00.000000000', '2013-06-16T00:00:00.000000000',\n",
      "       '2013-07-17T00:00:00.000000000', '2013-08-17T00:00:00.000000000',\n",
      "       '2013-09-16T00:00:00.000000000', '2013-10-17T00:00:00.000000000',\n",
      "       '2013-11-16T00:00:00.000000000', '2013-12-17T00:00:00.000000000',\n",
      "       '2014-01-17T00:00:00.000000000', '2014-02-14T00:00:00.000000000',\n",
      "       '2014-03-17T00:00:00.000000000', '2014-04-16T00:00:00.000000000',\n",
      "       '2014-05-17T00:00:00.000000000', '2014-06-16T00:00:00.000000000',\n",
      "       '2014-07-17T00:00:00.000000000', '2014-08-17T00:00:00.000000000',\n",
      "       '2014-09-16T00:00:00.000000000', '2014-10-17T00:00:00.000000000',\n",
      "       '2014-11-16T00:00:00.000000000', '2014-12-17T00:00:00.000000000'],\n",
      "      dtype='datetime64[ns]')\n",
      "Coordinates:\n",
      "  * time     (time) datetime64[ns] 2008-01-17 2008-02-15 ... 2014-12-17\n",
      "Attributes:\n",
      "    long_name:  time\n",
      "    bounds:     time_bnds\n",
      "Returning raw dataset\n",
      "Did not find levlat mean with filename: /home/ubuntu/mnts/nird/projects//Output_data_OAS-DEV//means/levlat_means//NorESM/noSECTv21_default_dd/CLOUD_2008-01-2014-12.nc \n",
      "Saving dataset to: /home/ubuntu/mnts/nird/projects//Output_data_OAS-DEV//means/levlat_means//NorESM/noSECTv21_default_dd/CLOUD_2008-01-2014-12.nc\n",
      "Loading file /home/ubuntu/mnts/nird/projects//Output_data_OAS-DEV//means/levlat_means//NorESM/noSECTv21_ox_ricc_dd/AWNC_incld_2008-01-2014-12.nc\n",
      "Loading file /home/ubuntu/mnts/nird/projects//Output_data_OAS-DEV//means/levlat_means//NorESM/noSECTv21_ox_ricc_dd/AREL_incld_2008-01-2014-12.nc\n",
      "Did not find levlat mean with filename: /home/ubuntu/mnts/nird/projects//Output_data_OAS-DEV//means/levlat_means//NorESM/noSECTv21_ox_ricc_dd/CLOUD_2008-01-2014-12.nc \n",
      "<xarray.DataArray 'time' (time: 84)>\n",
      "array([ 396.,  425.,  456.,  486.,  517.,  547.,  578.,  609.,  639.,  670.,\n",
      "        700.,  731.,  762.,  790.,  821.,  851.,  882.,  912.,  943.,  974.,\n",
      "       1004., 1035., 1065., 1096., 1127., 1155., 1186., 1216., 1247., 1277.,\n",
      "       1308., 1339., 1369., 1400., 1430., 1461., 1492., 1520., 1551., 1581.,\n",
      "       1612., 1642., 1673., 1704., 1734., 1765., 1795., 1826., 1857., 1886.,\n",
      "       1917., 1947., 1978., 2008., 2039., 2070., 2100., 2131., 2161., 2192.,\n",
      "       2223., 2251., 2282., 2312., 2343., 2373., 2404., 2435., 2465., 2496.,\n",
      "       2526., 2557., 2588., 2616., 2647., 2677., 2708., 2738., 2769., 2800.,\n",
      "       2830., 2861., 2891., 2922.])\n",
      "Coordinates:\n",
      "  * time     (time) float64 396.0 425.0 456.0 ... 2.861e+03 2.891e+03 2.922e+03\n",
      "Attributes:\n",
      "    long_name:  time\n",
      "    units:      days since 2007-01-01 00:00:00\n",
      "    calendar:   gregorian\n",
      "    bounds:     time_bnds\n",
      "<xarray.DataArray 'time' (time: 84)>\n",
      "array(['2008-01-17T00:00:00.000000000', '2008-02-15T00:00:00.000000000',\n",
      "       '2008-03-17T00:00:00.000000000', '2008-04-16T00:00:00.000000000',\n",
      "       '2008-05-17T00:00:00.000000000', '2008-06-16T00:00:00.000000000',\n",
      "       '2008-07-17T00:00:00.000000000', '2008-08-17T00:00:00.000000000',\n",
      "       '2008-09-16T00:00:00.000000000', '2008-10-17T00:00:00.000000000',\n",
      "       '2008-11-16T00:00:00.000000000', '2008-12-17T00:00:00.000000000',\n",
      "       '2009-01-17T00:00:00.000000000', '2009-02-14T00:00:00.000000000',\n",
      "       '2009-03-17T00:00:00.000000000', '2009-04-16T00:00:00.000000000',\n",
      "       '2009-05-17T00:00:00.000000000', '2009-06-16T00:00:00.000000000',\n",
      "       '2009-07-17T00:00:00.000000000', '2009-08-17T00:00:00.000000000',\n",
      "       '2009-09-16T00:00:00.000000000', '2009-10-17T00:00:00.000000000',\n",
      "       '2009-11-16T00:00:00.000000000', '2009-12-17T00:00:00.000000000',\n",
      "       '2010-01-17T00:00:00.000000000', '2010-02-14T00:00:00.000000000',\n",
      "       '2010-03-17T00:00:00.000000000', '2010-04-16T00:00:00.000000000',\n",
      "       '2010-05-17T00:00:00.000000000', '2010-06-16T00:00:00.000000000',\n",
      "       '2010-07-17T00:00:00.000000000', '2010-08-17T00:00:00.000000000',\n",
      "       '2010-09-16T00:00:00.000000000', '2010-10-17T00:00:00.000000000',\n",
      "       '2010-11-16T00:00:00.000000000', '2010-12-17T00:00:00.000000000',\n",
      "       '2011-01-17T00:00:00.000000000', '2011-02-14T00:00:00.000000000',\n",
      "       '2011-03-17T00:00:00.000000000', '2011-04-16T00:00:00.000000000',\n",
      "       '2011-05-17T00:00:00.000000000', '2011-06-16T00:00:00.000000000',\n",
      "       '2011-07-17T00:00:00.000000000', '2011-08-17T00:00:00.000000000',\n",
      "       '2011-09-16T00:00:00.000000000', '2011-10-17T00:00:00.000000000',\n",
      "       '2011-11-16T00:00:00.000000000', '2011-12-17T00:00:00.000000000',\n",
      "       '2012-01-17T00:00:00.000000000', '2012-02-15T00:00:00.000000000',\n",
      "       '2012-03-17T00:00:00.000000000', '2012-04-16T00:00:00.000000000',\n",
      "       '2012-05-17T00:00:00.000000000', '2012-06-16T00:00:00.000000000',\n",
      "       '2012-07-17T00:00:00.000000000', '2012-08-17T00:00:00.000000000',\n",
      "       '2012-09-16T00:00:00.000000000', '2012-10-17T00:00:00.000000000',\n",
      "       '2012-11-16T00:00:00.000000000', '2012-12-17T00:00:00.000000000',\n",
      "       '2013-01-17T00:00:00.000000000', '2013-02-14T00:00:00.000000000',\n",
      "       '2013-03-17T00:00:00.000000000', '2013-04-16T00:00:00.000000000',\n",
      "       '2013-05-17T00:00:00.000000000', '2013-06-16T00:00:00.000000000',\n",
      "       '2013-07-17T00:00:00.000000000', '2013-08-17T00:00:00.000000000',\n",
      "       '2013-09-16T00:00:00.000000000', '2013-10-17T00:00:00.000000000',\n",
      "       '2013-11-16T00:00:00.000000000', '2013-12-17T00:00:00.000000000',\n",
      "       '2014-01-17T00:00:00.000000000', '2014-02-14T00:00:00.000000000',\n",
      "       '2014-03-17T00:00:00.000000000', '2014-04-16T00:00:00.000000000',\n",
      "       '2014-05-17T00:00:00.000000000', '2014-06-16T00:00:00.000000000',\n",
      "       '2014-07-17T00:00:00.000000000', '2014-08-17T00:00:00.000000000',\n",
      "       '2014-09-16T00:00:00.000000000', '2014-10-17T00:00:00.000000000',\n",
      "       '2014-11-16T00:00:00.000000000', '2014-12-17T00:00:00.000000000'],\n",
      "      dtype='datetime64[ns]')\n",
      "Coordinates:\n",
      "  * time     (time) datetime64[ns] 2008-01-17 2008-02-15 ... 2014-12-17\n",
      "Attributes:\n",
      "    long_name:  time\n",
      "    bounds:     time_bnds\n",
      "Returning raw dataset\n",
      "Did not find levlat mean with filename: /home/ubuntu/mnts/nird/projects//Output_data_OAS-DEV//means/levlat_means//NorESM/noSECTv21_ox_ricc_dd/CLOUD_2008-01-2014-12.nc \n",
      "Saving dataset to: /home/ubuntu/mnts/nird/projects//Output_data_OAS-DEV//means/levlat_means//NorESM/noSECTv21_ox_ricc_dd/CLOUD_2008-01-2014-12.nc\n",
      "Loading file /home/ubuntu/mnts/nird/projects//Output_data_OAS-DEV//means/levlat_means//NorESM/SECTv21_ctrl_koagD/AWNC_incld_2008-01-2014-12.nc\n",
      "Loading file /home/ubuntu/mnts/nird/projects//Output_data_OAS-DEV//means/levlat_means//NorESM/SECTv21_ctrl_koagD/AREL_incld_2008-01-2014-12.nc\n",
      "Did not find levlat mean with filename: /home/ubuntu/mnts/nird/projects//Output_data_OAS-DEV//means/levlat_means//NorESM/SECTv21_ctrl_koagD/CLOUD_2008-01-2014-12.nc \n",
      "<xarray.DataArray 'time' (time: 84)>\n",
      "array([ 396.,  425.,  456.,  486.,  517.,  547.,  578.,  609.,  639.,  670.,\n",
      "        700.,  731.,  762.,  790.,  821.,  851.,  882.,  912.,  943.,  974.,\n",
      "       1004., 1035., 1065., 1096., 1127., 1155., 1186., 1216., 1247., 1277.,\n",
      "       1308., 1339., 1369., 1400., 1430., 1461., 1492., 1520., 1551., 1581.,\n",
      "       1612., 1642., 1673., 1704., 1734., 1765., 1795., 1826., 1857., 1886.,\n",
      "       1917., 1947., 1978., 2008., 2039., 2070., 2100., 2131., 2161., 2192.,\n",
      "       2223., 2251., 2282., 2312., 2343., 2373., 2404., 2435., 2465., 2496.,\n",
      "       2526., 2557., 2588., 2616., 2647., 2677., 2708., 2738., 2769., 2800.,\n",
      "       2830., 2861., 2891., 2922.])\n",
      "Coordinates:\n",
      "  * time     (time) float64 396.0 425.0 456.0 ... 2.861e+03 2.891e+03 2.922e+03\n",
      "Attributes:\n",
      "    long_name:  time\n",
      "    units:      days since 2007-01-01 00:00:00\n",
      "    calendar:   gregorian\n",
      "    bounds:     time_bnds\n",
      "<xarray.DataArray 'time' (time: 84)>\n",
      "array(['2008-01-17T00:00:00.000000000', '2008-02-15T00:00:00.000000000',\n",
      "       '2008-03-17T00:00:00.000000000', '2008-04-16T00:00:00.000000000',\n",
      "       '2008-05-17T00:00:00.000000000', '2008-06-16T00:00:00.000000000',\n",
      "       '2008-07-17T00:00:00.000000000', '2008-08-17T00:00:00.000000000',\n",
      "       '2008-09-16T00:00:00.000000000', '2008-10-17T00:00:00.000000000',\n",
      "       '2008-11-16T00:00:00.000000000', '2008-12-17T00:00:00.000000000',\n",
      "       '2009-01-17T00:00:00.000000000', '2009-02-14T00:00:00.000000000',\n",
      "       '2009-03-17T00:00:00.000000000', '2009-04-16T00:00:00.000000000',\n",
      "       '2009-05-17T00:00:00.000000000', '2009-06-16T00:00:00.000000000',\n",
      "       '2009-07-17T00:00:00.000000000', '2009-08-17T00:00:00.000000000',\n",
      "       '2009-09-16T00:00:00.000000000', '2009-10-17T00:00:00.000000000',\n",
      "       '2009-11-16T00:00:00.000000000', '2009-12-17T00:00:00.000000000',\n",
      "       '2010-01-17T00:00:00.000000000', '2010-02-14T00:00:00.000000000',\n",
      "       '2010-03-17T00:00:00.000000000', '2010-04-16T00:00:00.000000000',\n",
      "       '2010-05-17T00:00:00.000000000', '2010-06-16T00:00:00.000000000',\n",
      "       '2010-07-17T00:00:00.000000000', '2010-08-17T00:00:00.000000000',\n",
      "       '2010-09-16T00:00:00.000000000', '2010-10-17T00:00:00.000000000',\n",
      "       '2010-11-16T00:00:00.000000000', '2010-12-17T00:00:00.000000000',\n",
      "       '2011-01-17T00:00:00.000000000', '2011-02-14T00:00:00.000000000',\n",
      "       '2011-03-17T00:00:00.000000000', '2011-04-16T00:00:00.000000000',\n",
      "       '2011-05-17T00:00:00.000000000', '2011-06-16T00:00:00.000000000',\n",
      "       '2011-07-17T00:00:00.000000000', '2011-08-17T00:00:00.000000000',\n",
      "       '2011-09-16T00:00:00.000000000', '2011-10-17T00:00:00.000000000',\n",
      "       '2011-11-16T00:00:00.000000000', '2011-12-17T00:00:00.000000000',\n",
      "       '2012-01-17T00:00:00.000000000', '2012-02-15T00:00:00.000000000',\n",
      "       '2012-03-17T00:00:00.000000000', '2012-04-16T00:00:00.000000000',\n",
      "       '2012-05-17T00:00:00.000000000', '2012-06-16T00:00:00.000000000',\n",
      "       '2012-07-17T00:00:00.000000000', '2012-08-17T00:00:00.000000000',\n",
      "       '2012-09-16T00:00:00.000000000', '2012-10-17T00:00:00.000000000',\n",
      "       '2012-11-16T00:00:00.000000000', '2012-12-17T00:00:00.000000000',\n",
      "       '2013-01-17T00:00:00.000000000', '2013-02-14T00:00:00.000000000',\n",
      "       '2013-03-17T00:00:00.000000000', '2013-04-16T00:00:00.000000000',\n",
      "       '2013-05-17T00:00:00.000000000', '2013-06-16T00:00:00.000000000',\n",
      "       '2013-07-17T00:00:00.000000000', '2013-08-17T00:00:00.000000000',\n",
      "       '2013-09-16T00:00:00.000000000', '2013-10-17T00:00:00.000000000',\n",
      "       '2013-11-16T00:00:00.000000000', '2013-12-17T00:00:00.000000000',\n",
      "       '2014-01-17T00:00:00.000000000', '2014-02-14T00:00:00.000000000',\n",
      "       '2014-03-17T00:00:00.000000000', '2014-04-16T00:00:00.000000000',\n",
      "       '2014-05-17T00:00:00.000000000', '2014-06-16T00:00:00.000000000',\n",
      "       '2014-07-17T00:00:00.000000000', '2014-08-17T00:00:00.000000000',\n",
      "       '2014-09-16T00:00:00.000000000', '2014-10-17T00:00:00.000000000',\n",
      "       '2014-11-16T00:00:00.000000000', '2014-12-17T00:00:00.000000000'],\n",
      "      dtype='datetime64[ns]')\n",
      "Coordinates:\n",
      "  * time     (time) datetime64[ns] 2008-01-17 2008-02-15 ... 2014-12-17\n",
      "Attributes:\n",
      "    long_name:  time\n",
      "    bounds:     time_bnds\n",
      "Returning raw dataset\n",
      "Did not find levlat mean with filename: /home/ubuntu/mnts/nird/projects//Output_data_OAS-DEV//means/levlat_means//NorESM/SECTv21_ctrl_koagD/CLOUD_2008-01-2014-12.nc \n",
      "Saving dataset to: /home/ubuntu/mnts/nird/projects//Output_data_OAS-DEV//means/levlat_means//NorESM/SECTv21_ctrl_koagD/CLOUD_2008-01-2014-12.nc\n"
     ]
    },
    {
     "name": "stderr",
     "output_type": "stream",
     "text": [
      "/persistent01/miniconda3/envs/env_sec_v2/lib/python3.6/site-packages/matplotlib/colors.py:1171: RuntimeWarning: invalid value encountered in less_equal\n",
      "  mask |= resdat <= 0\n"
     ]
    },
    {
     "data": {
      "image/png": "[encoded data removed]",
      "text/plain": [
       "<Figure size 898.56x561.6 with 18 Axes>"
      ]
     },
     "metadata": {
      "needs_background": "light"
     },
     "output_type": "display_data"
    }
   ],
   "source": [
    "varlist = ['AWNC_incld', 'AREL_incld','CLOUD']\n",
    "cbar_orientation = 'vertical'\n",
    "cases_ctrl = cases_orig\n",
    "case_oth = cases_sec[0]\n",
    "ncol = len(cases)\n",
    "nrow = len(varlist)\n",
    "subfig_size = 2.6\n",
    "asp_ratio = 1.6\n",
    "figsize = [subfig_size * ncol * asp_ratio, subfig_size * nrow]\n",
    "# noinspection PyTypeChecker\n",
    "fig, axs = plt.subplots(nrow, ncol, figsize=figsize, sharex=True, sharey=True)\n",
    "CLOUD = 'CLOUD'\n",
    "norm_dic = dict(\n",
    "    NCONC01=colors.LogNorm(vmin=10, vmax=1e4),# base=10),\n",
    "    NMR01=colors.LogNorm(vmin=10, vmax=100),# base=10),\n",
    "    AWNC_incld=colors.LogNorm(vmin=1, vmax=200),# base=10),\n",
    "    AREL_incld=colors.LogNorm(vmin=5, vmax=70),#, base=10)\n",
    "    CLOUD=colors.Normalize(vmin=0, vmax=.7)\n",
    ")\n",
    "cases_dic = get_averaged_fields.get_levlat_cases(cases, varlist, startyear, endyear,\n",
    "                                                 pressure_adjust=pressure_adjust)\n",
    "\n",
    "for j, var in enumerate(varlist):\n",
    "    saxs = axs[j, :]\n",
    "    levlat_more_cases_var_abs(var, cases, cases_dic, cbar_eq=True,\n",
    "                          cbar_orientation='vertical',\n",
    "                          axs=saxs,\n",
    "                          norm=norm_dic[var],\n",
    "                          ylim=[1e3, 200],\n",
    "                          yscale='log')\n",
    "for ax in axs.flatten():\n",
    "    ax.set_ylabel('')\n",
    "    ax.set_xlabel('')\n",
    "for ax in axs[:, 0]:\n",
    "    ax.set_ylabel('Pressure [hPa]')\n",
    "for ax in axs[-1, :]:\n",
    "    ax.set_xlabel('Latitude [$^\\circ$N]')\n",
    "fig.tight_layout()\n",
    "fn = filen_base + f'N_clouds_{case_oth}' + '_'.join(cases_ctrl) + f'{startyear}-{endyear}'\n",
    "plt.savefig(fn + '.pdf')\n",
    "#plt.savefig(fn + '.png')\n",
    "plt.show()"
   ]
  },
  {
   "cell_type": "markdown",
   "metadata": {},
   "source": [
    "## Gases:"
   ]
  },
  {
   "cell_type": "code",
   "execution_count": null,
   "metadata": {},
   "outputs": [
    {
     "name": "stdout",
     "output_type": "stream",
     "text": [
      "Did not find levlat mean with filename: /home/ubuntu/mnts/nird/projects//Output_data_OAS-DEV//means/levlat_means//NorESM/noSECTv21_default_dd/H2SO4_2008-01-2014-12.nc \n",
      "Loading file: /home/ubuntu/mnts/nird/projects//Output_data_OAS-DEV//Fields_pressure_coordinates/NorESM/noSECTv21_default_dd/H2SO4_NorESM_noSECTv21_default_dd_2008-01-2014-12.nc\n",
      "Did not find levlat mean with filename: /home/ubuntu/mnts/nird/projects//Output_data_OAS-DEV//means/levlat_means//NorESM/noSECTv21_default_dd/H2SO4_2008-01-2014-12.nc \n",
      "Saving dataset to: /home/ubuntu/mnts/nird/projects//Output_data_OAS-DEV//means/levlat_means//NorESM/noSECTv21_default_dd/H2SO4_2008-01-2014-12.nc\n"
     ]
    },
    {
     "name": "stderr",
     "output_type": "stream",
     "text": [
      "/persistent01/miniconda3/envs/env_sec_v2/lib/python3.6/site-packages/dask/core.py:121: RuntimeWarning: invalid value encountered in true_divide\n",
      "  return func(*(_execute_task(a, cache) for a in args))\n"
     ]
    },
    {
     "name": "stdout",
     "output_type": "stream",
     "text": [
      "Did not find levlat mean with filename: /home/ubuntu/mnts/nird/projects//Output_data_OAS-DEV//means/levlat_means//NorESM/noSECTv21_default_dd/SOA_LV_2008-01-2014-12.nc \n",
      "Loading file: /home/ubuntu/mnts/nird/projects//Output_data_OAS-DEV//Fields_pressure_coordinates/NorESM/noSECTv21_default_dd/SOA_LV_NorESM_noSECTv21_default_dd_2008-01-2014-12.nc\n",
      "Did not find levlat mean with filename: /home/ubuntu/mnts/nird/projects//Output_data_OAS-DEV//means/levlat_means//NorESM/noSECTv21_default_dd/SOA_LV_2008-01-2014-12.nc \n",
      "Saving dataset to: /home/ubuntu/mnts/nird/projects//Output_data_OAS-DEV//means/levlat_means//NorESM/noSECTv21_default_dd/SOA_LV_2008-01-2014-12.nc\n"
     ]
    },
    {
     "name": "stderr",
     "output_type": "stream",
     "text": [
      "/persistent01/miniconda3/envs/env_sec_v2/lib/python3.6/site-packages/dask/core.py:121: RuntimeWarning: invalid value encountered in true_divide\n",
      "  return func(*(_execute_task(a, cache) for a in args))\n"
     ]
    },
    {
     "name": "stdout",
     "output_type": "stream",
     "text": [
      "Did not find levlat mean with filename: /home/ubuntu/mnts/nird/projects//Output_data_OAS-DEV//means/levlat_means//NorESM/noSECTv21_default_dd/SOA_SV_2008-01-2014-12.nc \n",
      "Loading file: /home/ubuntu/mnts/nird/projects//Output_data_OAS-DEV//Fields_pressure_coordinates/NorESM/noSECTv21_default_dd/SOA_SV_NorESM_noSECTv21_default_dd_2008-01-2014-12.nc\n",
      "Did not find levlat mean with filename: /home/ubuntu/mnts/nird/projects//Output_data_OAS-DEV//means/levlat_means//NorESM/noSECTv21_default_dd/SOA_SV_2008-01-2014-12.nc \n",
      "Saving dataset to: /home/ubuntu/mnts/nird/projects//Output_data_OAS-DEV//means/levlat_means//NorESM/noSECTv21_default_dd/SOA_SV_2008-01-2014-12.nc\n"
     ]
    },
    {
     "name": "stderr",
     "output_type": "stream",
     "text": [
      "/persistent01/miniconda3/envs/env_sec_v2/lib/python3.6/site-packages/dask/core.py:121: RuntimeWarning: invalid value encountered in true_divide\n",
      "  return func(*(_execute_task(a, cache) for a in args))\n"
     ]
    },
    {
     "name": "stdout",
     "output_type": "stream",
     "text": [
      "Did not find levlat mean with filename: /home/ubuntu/mnts/nird/projects//Output_data_OAS-DEV//means/levlat_means//NorESM/noSECTv21_ox_ricc_dd/H2SO4_2008-01-2014-12.nc \n",
      "Loading file: /home/ubuntu/mnts/nird/projects//Output_data_OAS-DEV//Fields_pressure_coordinates/NorESM/noSECTv21_ox_ricc_dd/H2SO4_NorESM_noSECTv21_ox_ricc_dd_2008-01-2014-12.nc\n",
      "Did not find levlat mean with filename: /home/ubuntu/mnts/nird/projects//Output_data_OAS-DEV//means/levlat_means//NorESM/noSECTv21_ox_ricc_dd/H2SO4_2008-01-2014-12.nc \n",
      "Saving dataset to: /home/ubuntu/mnts/nird/projects//Output_data_OAS-DEV//means/levlat_means//NorESM/noSECTv21_ox_ricc_dd/H2SO4_2008-01-2014-12.nc\n"
     ]
    },
    {
     "name": "stderr",
     "output_type": "stream",
     "text": [
      "/persistent01/miniconda3/envs/env_sec_v2/lib/python3.6/site-packages/dask/core.py:121: RuntimeWarning: invalid value encountered in true_divide\n",
      "  return func(*(_execute_task(a, cache) for a in args))\n"
     ]
    },
    {
     "name": "stdout",
     "output_type": "stream",
     "text": [
      "Did not find levlat mean with filename: /home/ubuntu/mnts/nird/projects//Output_data_OAS-DEV//means/levlat_means//NorESM/noSECTv21_ox_ricc_dd/SOA_LV_2008-01-2014-12.nc \n",
      "Loading file: /home/ubuntu/mnts/nird/projects//Output_data_OAS-DEV//Fields_pressure_coordinates/NorESM/noSECTv21_ox_ricc_dd/SOA_LV_NorESM_noSECTv21_ox_ricc_dd_2008-01-2014-12.nc\n",
      "Did not find levlat mean with filename: /home/ubuntu/mnts/nird/projects//Output_data_OAS-DEV//means/levlat_means//NorESM/noSECTv21_ox_ricc_dd/SOA_LV_2008-01-2014-12.nc \n",
      "Saving dataset to: /home/ubuntu/mnts/nird/projects//Output_data_OAS-DEV//means/levlat_means//NorESM/noSECTv21_ox_ricc_dd/SOA_LV_2008-01-2014-12.nc\n"
     ]
    },
    {
     "name": "stderr",
     "output_type": "stream",
     "text": [
      "/persistent01/miniconda3/envs/env_sec_v2/lib/python3.6/site-packages/dask/core.py:121: RuntimeWarning: invalid value encountered in true_divide\n",
      "  return func(*(_execute_task(a, cache) for a in args))\n"
     ]
    },
    {
     "name": "stdout",
     "output_type": "stream",
     "text": [
      "Did not find levlat mean with filename: /home/ubuntu/mnts/nird/projects//Output_data_OAS-DEV//means/levlat_means//NorESM/noSECTv21_ox_ricc_dd/SOA_SV_2008-01-2014-12.nc \n",
      "Loading file: /home/ubuntu/mnts/nird/projects//Output_data_OAS-DEV//Fields_pressure_coordinates/NorESM/noSECTv21_ox_ricc_dd/SOA_SV_NorESM_noSECTv21_ox_ricc_dd_2008-01-2014-12.nc\n",
      "Did not find levlat mean with filename: /home/ubuntu/mnts/nird/projects//Output_data_OAS-DEV//means/levlat_means//NorESM/noSECTv21_ox_ricc_dd/SOA_SV_2008-01-2014-12.nc \n",
      "Saving dataset to: /home/ubuntu/mnts/nird/projects//Output_data_OAS-DEV//means/levlat_means//NorESM/noSECTv21_ox_ricc_dd/SOA_SV_2008-01-2014-12.nc\n"
     ]
    },
    {
     "name": "stderr",
     "output_type": "stream",
     "text": [
      "/persistent01/miniconda3/envs/env_sec_v2/lib/python3.6/site-packages/dask/core.py:121: RuntimeWarning: invalid value encountered in true_divide\n",
      "  return func(*(_execute_task(a, cache) for a in args))\n"
     ]
    },
    {
     "name": "stdout",
     "output_type": "stream",
     "text": [
      "Did not find levlat mean with filename: /home/ubuntu/mnts/nird/projects//Output_data_OAS-DEV//means/levlat_means//NorESM/SECTv21_ctrl_koagD/H2SO4_2008-01-2014-12.nc \n",
      "Loading file: /home/ubuntu/mnts/nird/projects//Output_data_OAS-DEV//Fields_pressure_coordinates/NorESM/SECTv21_ctrl_koagD/H2SO4_NorESM_SECTv21_ctrl_koagD_2008-01-2014-12.nc\n",
      "Did not find levlat mean with filename: /home/ubuntu/mnts/nird/projects//Output_data_OAS-DEV//means/levlat_means//NorESM/SECTv21_ctrl_koagD/H2SO4_2008-01-2014-12.nc \n",
      "Saving dataset to: /home/ubuntu/mnts/nird/projects//Output_data_OAS-DEV//means/levlat_means//NorESM/SECTv21_ctrl_koagD/H2SO4_2008-01-2014-12.nc\n"
     ]
    },
    {
     "name": "stderr",
     "output_type": "stream",
     "text": [
      "/persistent01/miniconda3/envs/env_sec_v2/lib/python3.6/site-packages/dask/core.py:121: RuntimeWarning: invalid value encountered in true_divide\n",
      "  return func(*(_execute_task(a, cache) for a in args))\n"
     ]
    },
    {
     "name": "stdout",
     "output_type": "stream",
     "text": [
      "Did not find levlat mean with filename: /home/ubuntu/mnts/nird/projects//Output_data_OAS-DEV//means/levlat_means//NorESM/SECTv21_ctrl_koagD/SOA_LV_2008-01-2014-12.nc \n",
      "Loading file: /home/ubuntu/mnts/nird/projects//Output_data_OAS-DEV//Fields_pressure_coordinates/NorESM/SECTv21_ctrl_koagD/SOA_LV_NorESM_SECTv21_ctrl_koagD_2008-01-2014-12.nc\n",
      "Did not find levlat mean with filename: /home/ubuntu/mnts/nird/projects//Output_data_OAS-DEV//means/levlat_means//NorESM/SECTv21_ctrl_koagD/SOA_LV_2008-01-2014-12.nc \n",
      "Saving dataset to: /home/ubuntu/mnts/nird/projects//Output_data_OAS-DEV//means/levlat_means//NorESM/SECTv21_ctrl_koagD/SOA_LV_2008-01-2014-12.nc\n"
     ]
    },
    {
     "name": "stderr",
     "output_type": "stream",
     "text": [
      "/persistent01/miniconda3/envs/env_sec_v2/lib/python3.6/site-packages/dask/core.py:121: RuntimeWarning: invalid value encountered in true_divide\n",
      "  return func(*(_execute_task(a, cache) for a in args))\n"
     ]
    },
    {
     "name": "stdout",
     "output_type": "stream",
     "text": [
      "Did not find levlat mean with filename: /home/ubuntu/mnts/nird/projects//Output_data_OAS-DEV//means/levlat_means//NorESM/SECTv21_ctrl_koagD/SOA_SV_2008-01-2014-12.nc \n",
      "Loading file: /home/ubuntu/mnts/nird/projects//Output_data_OAS-DEV//Fields_pressure_coordinates/NorESM/SECTv21_ctrl_koagD/SOA_SV_NorESM_SECTv21_ctrl_koagD_2008-01-2014-12.nc\n",
      "Did not find levlat mean with filename: /home/ubuntu/mnts/nird/projects//Output_data_OAS-DEV//means/levlat_means//NorESM/SECTv21_ctrl_koagD/SOA_SV_2008-01-2014-12.nc \n",
      "Saving dataset to: /home/ubuntu/mnts/nird/projects//Output_data_OAS-DEV//means/levlat_means//NorESM/SECTv21_ctrl_koagD/SOA_SV_2008-01-2014-12.nc\n"
     ]
    },
    {
     "name": "stderr",
     "output_type": "stream",
     "text": [
      "/persistent01/miniconda3/envs/env_sec_v2/lib/python3.6/site-packages/dask/core.py:121: RuntimeWarning: invalid value encountered in true_divide\n",
      "  return func(*(_execute_task(a, cache) for a in args))\n",
      "/persistent01/miniconda3/envs/env_sec_v2/lib/python3.6/site-packages/dask/core.py:121: RuntimeWarning: invalid value encountered in true_divide\n",
      "  return func(*(_execute_task(a, cache) for a in args))\n",
      "/persistent01/miniconda3/envs/env_sec_v2/lib/python3.6/site-packages/dask/core.py:121: RuntimeWarning: invalid value encountered in true_divide\n",
      "  return func(*(_execute_task(a, cache) for a in args))\n",
      "/persistent01/miniconda3/envs/env_sec_v2/lib/python3.6/site-packages/dask/core.py:121: RuntimeWarning: invalid value encountered in true_divide\n",
      "  return func(*(_execute_task(a, cache) for a in args))\n",
      "/persistent01/miniconda3/envs/env_sec_v2/lib/python3.6/site-packages/dask/core.py:121: RuntimeWarning: invalid value encountered in true_divide\n",
      "  return func(*(_execute_task(a, cache) for a in args))\n",
      "/persistent01/miniconda3/envs/env_sec_v2/lib/python3.6/site-packages/dask/core.py:121: RuntimeWarning: invalid value encountered in true_divide\n",
      "  return func(*(_execute_task(a, cache) for a in args))\n",
      "/persistent01/miniconda3/envs/env_sec_v2/lib/python3.6/site-packages/dask/core.py:121: RuntimeWarning: invalid value encountered in true_divide\n",
      "  return func(*(_execute_task(a, cache) for a in args))\n"
     ]
    }
   ],
   "source": [
    "varlist = ['H2SO4', 'SOA_LV', 'SOA_SV']# 'SOA_NA','SO4_NA']\n",
    "cbar_orientation = 'vertical'\n",
    "cases_ctrl = cases_orig\n",
    "case_oth = cases_sec[0]\n",
    "ncol = len(cases)\n",
    "nrow = len(varlist)\n",
    "subfig_size = 2.6\n",
    "asp_ratio = 1.6\n",
    "figsize = [subfig_size * ncol * asp_ratio, subfig_size * nrow]\n",
    "# noinspection PyTypeChecker\n",
    "fig, axs = plt.subplots(nrow, ncol, figsize=figsize, sharex=True, sharey=True)\n",
    "\n",
    "h2so4 = 'H2SO4'\n",
    "soalv = 'SOA_LV'\n",
    "soasv = 'SOA_SV'\n",
    "soana='SOA_NA'\n",
    "so4na = 'SO4_NA'\n",
    "\n",
    "norm_dic = {\n",
    "    h2so4 : colors.LogNorm(vmin=1e-2, vmax=1),# base=10),\n",
    "    soalv : colors.LogNorm(vmin=1e-3, vmax=1),# base=10),\n",
    "    soasv : colors.LogNorm(vmin=1e-2, vmax=10),# base=10),\n",
    "    so4na : colors.LogNorm(vmin=1e-12, vmax=1e-10),#, base=10)\n",
    "    soana : colors.LogNorm(vmin=1e-12, vmax=1e-10)\n",
    "}\n",
    "cases_dic = get_averaged_fields.get_levlat_cases(cases, varlist, startyear, endyear,\n",
    "                                                 pressure_adjust=pressure_adjust)\n",
    "if h2so4 in varlist or soalv in varlist:\n",
    "    for case in cases:\n",
    "        ds = cases_dic[case]\n",
    "        for var in [h2so4, soalv, soasv]:\n",
    "            if var in ds.data_vars:\n",
    "                if ds[var].attrs['units'] == 'mol/mol':\n",
    "                    ds[var] = ds[var]*1e12\n",
    "                    ds[var].attrs['units']='ppt'\n",
    "\n",
    "for j, var in enumerate(varlist):\n",
    "    saxs = axs[j, :]\n",
    "    levlat_more_cases_var_abs(var, cases, cases_dic, cbar_eq=True,\n",
    "                          cbar_orientation='vertical',\n",
    "                          axs=saxs,\n",
    "                          norm=norm_dic[var],\n",
    "                          ylim=[1e3, 200],\n",
    "                          yscale='log')\n",
    "for ax in axs.flatten():\n",
    "    ax.set_ylabel('')\n",
    "    ax.set_xlabel('')\n",
    "for ax in axs[:, 0]:\n",
    "    ax.set_ylabel('Pressure [hPa]')\n",
    "for ax in axs[-1, :]:\n",
    "    ax.set_xlabel('Latitude [$^\\circ$N]')\n",
    "fig.tight_layout()\n",
    "fn = filen_base + f'N_clouds_{case_oth}' + '_'.join(cases_ctrl) + f'{startyear}-{endyear}'\n",
    "#plt.savefig(fn + '.pdf')\n",
    "#plt.savefig(fn + '.png')\n",
    "fn = filen_base + f'abs_latlev_gases_{case_oth}' + '_'.join(cases_ctrl) + f'{startyear}-{endyear}'\n",
    "plt.savefig(fn + '.pdf', dpi=300)\n",
    "print(fn)\n",
    "\n",
    "plt.show()"
   ]
  },
  {
   "cell_type": "markdown",
   "metadata": {},
   "source": [
    "## Aerosol properties:"
   ]
  },
  {
   "cell_type": "code",
   "execution_count": null,
   "metadata": {},
   "outputs": [],
   "source": [
    "varlist = ['SOA_NA','SO4_NA', 'N_AER','NCONC01','NMR01']\n",
    "cbar_orientation = 'vertical'\n",
    "cases_ctrl = cases_orig\n",
    "case_oth = cases_sec[0]\n",
    "ncol = len(cases)\n",
    "nrow = len(varlist)\n",
    "subfig_size = 2.6\n",
    "asp_ratio = 1.6\n",
    "figsize = [subfig_size * ncol * asp_ratio, subfig_size * nrow]\n",
    "# noinspection PyTypeChecker\n",
    "fig, axs = plt.subplots(nrow, ncol, figsize=figsize, sharex=True, sharey=True)\n",
    "\n",
    "h2so4 = 'H2SO4'\n",
    "soalv = 'SOA_LV'\n",
    "soasv = 'SOA_SV'\n",
    "soana='SOA_NA'\n",
    "so4na = 'SO4_NA'\n",
    "naer = 'N_AER'\n",
    "NMR01 = 'NMR01'\n",
    "NCONC01 = 'NCONC01'\n",
    "norm_dic = {\n",
    "    h2so4 : colors.LogNorm(vmin=1e-2, vmax=1),# base=10),\n",
    "    soalv : colors.LogNorm(vmin=1e-3, vmax=1),# base=10),\n",
    "    soasv : colors.LogNorm(vmin=1e-2, vmax=10),# base=10),\n",
    "    so4na : colors.LogNorm(vmin=1e-12, vmax=1e-10),#, base=10)\n",
    "    soana : colors.LogNorm(vmin=1e-12, vmax=5e-11),\n",
    "    naer :colors.LogNorm(vmin=10, vmax=1e4),\n",
    "    NCONC01:colors.LogNorm(vmin=10, vmax=1e4),# base=10),\n",
    "    NMR01: colors.LogNorm(vmin=10, vmax=100),# base=10),\n",
    "\n",
    "}\n",
    "cases_dic = get_averaged_fields.get_levlat_cases(cases, varlist, startyear, endyear,\n",
    "                                                 pressure_adjust=pressure_adjust)\n",
    "if h2so4 in varlist or soalv in varlist:\n",
    "    for case in cases:\n",
    "        ds = cases_dic[case]\n",
    "        for var in [h2so4, soalv, soasv]:\n",
    "            if var in ds.data_vars:\n",
    "                if ds[var].attrs['units'] == 'mol/mol':\n",
    "                    ds[var] = ds[var]*1e12\n",
    "                    ds[var].attrs['units']='ppt'\n",
    "\n",
    "for j, var in enumerate(varlist):\n",
    "    saxs = axs[j, :]\n",
    "    levlat_more_cases_var_abs(var, cases, cases_dic, cbar_eq=True,\n",
    "                          cbar_orientation='vertical',\n",
    "                          axs=saxs,\n",
    "                          norm=norm_dic[var],\n",
    "                          ylim=[1e3, 200],\n",
    "                          yscale='log')\n",
    "for ax in axs.flatten():\n",
    "    ax.set_ylabel('')\n",
    "    ax.set_xlabel('')\n",
    "for ax in axs[:, 0]:\n",
    "    ax.set_ylabel('Pressure [hPa]')\n",
    "for ax in axs[-1, :]:\n",
    "    ax.set_xlabel('Latitude [$^\\circ$N]')\n",
    "fig.tight_layout()\n",
    "\n",
    "#plt.savefig(fn + '.png')\n",
    "plt.show()"
   ]
  },
  {
   "cell_type": "code",
   "execution_count": null,
   "metadata": {},
   "outputs": [],
   "source": []
  },
  {
   "cell_type": "code",
   "execution_count": null,
   "metadata": {},
   "outputs": [],
   "source": []
  },
  {
   "cell_type": "code",
   "execution_count": null,
   "metadata": {},
   "outputs": [],
   "source": []
  }
 ],
 "metadata": {
  "jupytext": {
   "text_representation": {
    "extension": ".py",
    "format_name": "percent",
    "format_version": "1.3",
    "jupytext_version": "1.3.2"
   }
  },
  "kernelspec": {
   "display_name": "Python 3",
   "language": "python",
   "name": "python3"
  },
  "language_info": {
   "codemirror_mode": {
    "name": "ipython",
    "version": 3
   },
   "file_extension": ".py",
   "mimetype": "text/x-python",
   "name": "python",
   "nbconvert_exporter": "python",
   "pygments_lexer": "ipython3",
   "version": "3.6.7"
  }
 },
 "nbformat": 4,
 "nbformat_minor": 4
}
